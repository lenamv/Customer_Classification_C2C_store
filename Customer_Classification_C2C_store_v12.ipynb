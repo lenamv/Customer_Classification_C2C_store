{
 "cells": [
  {
   "cell_type": "markdown",
   "metadata": {},
   "source": [
    "# Market Segmentation for a French (C2C) Fashion Store\n",
    "\n",
    "Market segmentation for a french (C2C) fashion store using cluster analysis to achieve more effective customer marketing via personalization.     \n",
    "\n",
    "The goal of the project is to find out a ratio of types of customers who are sellers to support decision making in customer marketing.    \n",
    "\n",
    "The data source is 'data.world' portal https://data.world/jfreex/e-commerce-users-of-a-french-c2c-fashion-store.    \n",
    "\n",
    "The focus of the project is customers who are active users of the platform in selling field. To be consider as an active user, they should have at least one sold product."
   ]
  },
  {
   "cell_type": "markdown",
   "metadata": {},
   "source": [
    "### Importing packages, loading the data"
   ]
  },
  {
   "cell_type": "code",
   "execution_count": 1,
   "metadata": {},
   "outputs": [
    {
     "data": {
      "text/html": [
       "<div>\n",
       "<style scoped>\n",
       "    .dataframe tbody tr th:only-of-type {\n",
       "        vertical-align: middle;\n",
       "    }\n",
       "\n",
       "    .dataframe tbody tr th {\n",
       "        vertical-align: top;\n",
       "    }\n",
       "\n",
       "    .dataframe thead th {\n",
       "        text-align: right;\n",
       "    }\n",
       "</style>\n",
       "<table border=\"1\" class=\"dataframe\">\n",
       "  <thead>\n",
       "    <tr style=\"text-align: right;\">\n",
       "      <th></th>\n",
       "      <th>identifierHash</th>\n",
       "      <th>type</th>\n",
       "      <th>country</th>\n",
       "      <th>language</th>\n",
       "      <th>socialNbFollowers</th>\n",
       "      <th>socialNbFollows</th>\n",
       "      <th>socialProductsLiked</th>\n",
       "      <th>productsListed</th>\n",
       "      <th>productsSold</th>\n",
       "      <th>productsPassRate</th>\n",
       "      <th>productsWished</th>\n",
       "      <th>productsBought</th>\n",
       "      <th>gender</th>\n",
       "      <th>civilityGenderId</th>\n",
       "      <th>civilityTitle</th>\n",
       "      <th>hasAnyApp</th>\n",
       "      <th>hasAndroidApp</th>\n",
       "      <th>hasIosApp</th>\n",
       "      <th>hasProfilePicture</th>\n",
       "      <th>daysSinceLastLogin</th>\n",
       "      <th>seniority</th>\n",
       "      <th>seniorityAsMonths</th>\n",
       "      <th>seniorityAsYears</th>\n",
       "      <th>countryCode</th>\n",
       "    </tr>\n",
       "  </thead>\n",
       "  <tbody>\n",
       "    <tr>\n",
       "      <th>0</th>\n",
       "      <td>-7279641312655250028</td>\n",
       "      <td>user</td>\n",
       "      <td>Etats-Unis</td>\n",
       "      <td>en</td>\n",
       "      <td>3</td>\n",
       "      <td>8</td>\n",
       "      <td>0</td>\n",
       "      <td>0</td>\n",
       "      <td>0</td>\n",
       "      <td>0.0</td>\n",
       "      <td>0</td>\n",
       "      <td>0</td>\n",
       "      <td>F</td>\n",
       "      <td>2</td>\n",
       "      <td>mrs</td>\n",
       "      <td>False</td>\n",
       "      <td>False</td>\n",
       "      <td>False</td>\n",
       "      <td>True</td>\n",
       "      <td>709</td>\n",
       "      <td>3205</td>\n",
       "      <td>106.83</td>\n",
       "      <td>8.9</td>\n",
       "      <td>us</td>\n",
       "    </tr>\n",
       "    <tr>\n",
       "      <th>1</th>\n",
       "      <td>-1456013578740053406</td>\n",
       "      <td>user</td>\n",
       "      <td>Allemagne</td>\n",
       "      <td>de</td>\n",
       "      <td>3</td>\n",
       "      <td>8</td>\n",
       "      <td>0</td>\n",
       "      <td>0</td>\n",
       "      <td>0</td>\n",
       "      <td>0.0</td>\n",
       "      <td>0</td>\n",
       "      <td>0</td>\n",
       "      <td>F</td>\n",
       "      <td>2</td>\n",
       "      <td>mrs</td>\n",
       "      <td>False</td>\n",
       "      <td>False</td>\n",
       "      <td>False</td>\n",
       "      <td>True</td>\n",
       "      <td>709</td>\n",
       "      <td>3205</td>\n",
       "      <td>106.83</td>\n",
       "      <td>8.9</td>\n",
       "      <td>de</td>\n",
       "    </tr>\n",
       "    <tr>\n",
       "      <th>2</th>\n",
       "      <td>9006282053848196165</td>\n",
       "      <td>user</td>\n",
       "      <td>Suède</td>\n",
       "      <td>en</td>\n",
       "      <td>3</td>\n",
       "      <td>8</td>\n",
       "      <td>0</td>\n",
       "      <td>0</td>\n",
       "      <td>0</td>\n",
       "      <td>0.0</td>\n",
       "      <td>0</td>\n",
       "      <td>0</td>\n",
       "      <td>M</td>\n",
       "      <td>1</td>\n",
       "      <td>mr</td>\n",
       "      <td>True</td>\n",
       "      <td>False</td>\n",
       "      <td>True</td>\n",
       "      <td>True</td>\n",
       "      <td>689</td>\n",
       "      <td>3205</td>\n",
       "      <td>106.83</td>\n",
       "      <td>8.9</td>\n",
       "      <td>se</td>\n",
       "    </tr>\n",
       "    <tr>\n",
       "      <th>3</th>\n",
       "      <td>-7154634866120535654</td>\n",
       "      <td>user</td>\n",
       "      <td>Turquie</td>\n",
       "      <td>en</td>\n",
       "      <td>3</td>\n",
       "      <td>8</td>\n",
       "      <td>0</td>\n",
       "      <td>0</td>\n",
       "      <td>0</td>\n",
       "      <td>0.0</td>\n",
       "      <td>0</td>\n",
       "      <td>0</td>\n",
       "      <td>F</td>\n",
       "      <td>2</td>\n",
       "      <td>mrs</td>\n",
       "      <td>False</td>\n",
       "      <td>False</td>\n",
       "      <td>False</td>\n",
       "      <td>True</td>\n",
       "      <td>709</td>\n",
       "      <td>3205</td>\n",
       "      <td>106.83</td>\n",
       "      <td>8.9</td>\n",
       "      <td>tr</td>\n",
       "    </tr>\n",
       "    <tr>\n",
       "      <th>4</th>\n",
       "      <td>2858299215060733023</td>\n",
       "      <td>user</td>\n",
       "      <td>France</td>\n",
       "      <td>en</td>\n",
       "      <td>3</td>\n",
       "      <td>8</td>\n",
       "      <td>0</td>\n",
       "      <td>0</td>\n",
       "      <td>0</td>\n",
       "      <td>0.0</td>\n",
       "      <td>0</td>\n",
       "      <td>0</td>\n",
       "      <td>M</td>\n",
       "      <td>1</td>\n",
       "      <td>mr</td>\n",
       "      <td>True</td>\n",
       "      <td>False</td>\n",
       "      <td>True</td>\n",
       "      <td>True</td>\n",
       "      <td>709</td>\n",
       "      <td>3205</td>\n",
       "      <td>106.83</td>\n",
       "      <td>8.9</td>\n",
       "      <td>fr</td>\n",
       "    </tr>\n",
       "  </tbody>\n",
       "</table>\n",
       "</div>"
      ],
      "text/plain": [
       "        identifierHash  type     country language  socialNbFollowers  \\\n",
       "0 -7279641312655250028  user  Etats-Unis       en                  3   \n",
       "1 -1456013578740053406  user   Allemagne       de                  3   \n",
       "2  9006282053848196165  user       Suède       en                  3   \n",
       "3 -7154634866120535654  user     Turquie       en                  3   \n",
       "4  2858299215060733023  user      France       en                  3   \n",
       "\n",
       "   socialNbFollows  socialProductsLiked  productsListed  productsSold  \\\n",
       "0                8                    0               0             0   \n",
       "1                8                    0               0             0   \n",
       "2                8                    0               0             0   \n",
       "3                8                    0               0             0   \n",
       "4                8                    0               0             0   \n",
       "\n",
       "   productsPassRate  productsWished  productsBought gender  civilityGenderId  \\\n",
       "0               0.0               0               0      F                 2   \n",
       "1               0.0               0               0      F                 2   \n",
       "2               0.0               0               0      M                 1   \n",
       "3               0.0               0               0      F                 2   \n",
       "4               0.0               0               0      M                 1   \n",
       "\n",
       "  civilityTitle  hasAnyApp  hasAndroidApp  hasIosApp  hasProfilePicture  \\\n",
       "0           mrs      False          False      False               True   \n",
       "1           mrs      False          False      False               True   \n",
       "2            mr       True          False       True               True   \n",
       "3           mrs      False          False      False               True   \n",
       "4            mr       True          False       True               True   \n",
       "\n",
       "   daysSinceLastLogin  seniority  seniorityAsMonths  seniorityAsYears  \\\n",
       "0                 709       3205             106.83               8.9   \n",
       "1                 709       3205             106.83               8.9   \n",
       "2                 689       3205             106.83               8.9   \n",
       "3                 709       3205             106.83               8.9   \n",
       "4                 709       3205             106.83               8.9   \n",
       "\n",
       "  countryCode  \n",
       "0          us  \n",
       "1          de  \n",
       "2          se  \n",
       "3          tr  \n",
       "4          fr  "
      ]
     },
     "execution_count": 1,
     "metadata": {},
     "output_type": "execute_result"
    }
   ],
   "source": [
    "# Import modules\n",
    "import pandas as pd\n",
    "import numpy as np\n",
    "import matplotlib.pyplot as plt\n",
    "import seaborn as sns\n",
    "from scipy import stats\n",
    "import collections\n",
    "\n",
    "from sklearn.preprocessing import PowerTransformer\n",
    "from sklearn.preprocessing import QuantileTransformer\n",
    "\n",
    "from sklearn.preprocessing import StandardScaler, RobustScaler, MinMaxScaler\n",
    "from sklearn import cluster, tree, decomposition\n",
    "from sklearn.preprocessing import LabelEncoder\n",
    "from sklearn.cluster import KMeans\n",
    "from sklearn.cluster import SpectralClustering\n",
    "from sklearn.cluster import AgglomerativeClustering\n",
    "\n",
    "from sklearn import metrics\n",
    "from sklearn.decomposition import PCA\n",
    "from sklearn.metrics import silhouette_score\n",
    "\n",
    "# Disable zero division warnings\n",
    "np.errstate(divide='ignore')\n",
    "\n",
    "# Set matplotlib options\n",
    "%matplotlib inline\n",
    "color = '#1F77B4'    # Color is used in barcharts\n",
    "pd.set_option('display.max_columns', 100)\n",
    "pd.set_option('display.max_rows', 200)\n",
    "fontsize=16     # Font size of a  figure title\n",
    "\n",
    "# Download the dataset\n",
    "# Source https://data.world/jfreex/e-commerce-users-of-a-french-c2c-fashion-store\n",
    "fl = '2. Prepared Data/6M-0K-99K.users.dataset.public.csv'\n",
    "data = pd.read_csv(fl)\n",
    "\n",
    "# Preview data\n",
    "data.head()"
   ]
  },
  {
   "cell_type": "markdown",
   "metadata": {},
   "source": [
    "## 1. Data Preprocessing\n",
    "\n",
    "### 1.1. Exploratory Data Analysis & Data Cleaning"
   ]
  },
  {
   "cell_type": "code",
   "execution_count": 2,
   "metadata": {},
   "outputs": [
    {
     "data": {
      "text/plain": [
       "Index(['identifierHash', 'type', 'country', 'language', 'socialNbFollowers',\n",
       "       'socialNbFollows', 'socialProductsLiked', 'productsListed',\n",
       "       'productsSold', 'productsPassRate', 'productsWished', 'productsBought',\n",
       "       'gender', 'civilityGenderId', 'civilityTitle', 'hasAnyApp',\n",
       "       'hasAndroidApp', 'hasIosApp', 'hasProfilePicture', 'daysSinceLastLogin',\n",
       "       'seniority', 'seniorityAsMonths', 'seniorityAsYears', 'countryCode'],\n",
       "      dtype='object')"
      ]
     },
     "execution_count": 2,
     "metadata": {},
     "output_type": "execute_result"
    }
   ],
   "source": [
    "# Get base information on the dataset\n",
    "data.columns"
   ]
  },
  {
   "cell_type": "code",
   "execution_count": 3,
   "metadata": {},
   "outputs": [
    {
     "name": "stdout",
     "output_type": "stream",
     "text": [
      "<class 'pandas.core.frame.DataFrame'>\n",
      "RangeIndex: 98913 entries, 0 to 98912\n",
      "Data columns (total 19 columns):\n",
      " #   Column               Non-Null Count  Dtype  \n",
      "---  ------               --------------  -----  \n",
      " 0   identifierHash       98913 non-null  int64  \n",
      " 1   type                 98913 non-null  object \n",
      " 2   country              98913 non-null  object \n",
      " 3   language             98913 non-null  object \n",
      " 4   socialNbFollowers    98913 non-null  int64  \n",
      " 5   socialNbFollows      98913 non-null  int64  \n",
      " 6   socialProductsLiked  98913 non-null  int64  \n",
      " 7   productsListed       98913 non-null  int64  \n",
      " 8   productsSold         98913 non-null  int64  \n",
      " 9   productsPassRate     98913 non-null  float64\n",
      " 10  productsWished       98913 non-null  int64  \n",
      " 11  productsBought       98913 non-null  int64  \n",
      " 12  gender               98913 non-null  object \n",
      " 13  hasAnyApp            98913 non-null  bool   \n",
      " 14  hasAndroidApp        98913 non-null  bool   \n",
      " 15  hasIosApp            98913 non-null  bool   \n",
      " 16  hasProfilePicture    98913 non-null  bool   \n",
      " 17  daysSinceLastLogin   98913 non-null  int64  \n",
      " 18  seniority            98913 non-null  int64  \n",
      "dtypes: bool(4), float64(1), int64(10), object(4)\n",
      "memory usage: 11.7+ MB\n"
     ]
    }
   ],
   "source": [
    "# Drop columns with information that will not be used or is duplicated \n",
    "drop_columns = ['civilityGenderId', 'civilityTitle', 'seniorityAsMonths', 'seniorityAsYears','countryCode']\n",
    "data.drop(columns=drop_columns, inplace=True)\n",
    "data.info()"
   ]
  },
  {
   "cell_type": "code",
   "execution_count": 4,
   "metadata": {},
   "outputs": [
    {
     "name": "stdout",
     "output_type": "stream",
     "text": [
      "(98913, 19)\n"
     ]
    }
   ],
   "source": [
    "# Get the dimensionality of the dataset\n",
    "print(data.shape)"
   ]
  },
  {
   "cell_type": "code",
   "execution_count": 5,
   "metadata": {},
   "outputs": [
    {
     "name": "stdout",
     "output_type": "stream",
     "text": [
      "Duplicated users: 0\n"
     ]
    }
   ],
   "source": [
    "# Check that user identification numbers are unique\n",
    "users = len(data['identifierHash'].unique().tolist())\n",
    "print(f'Duplicated users: {users-data.shape[0]}')\n",
    "\n",
    "# Chech type of users is 'user' \n",
    "user_types = (data['type']=='user').sum() - data.shape[0]\n",
    "\n",
    "# Drop 'type' column if type of all users is 'user' \n",
    "if user_types==0:\n",
    "    data.drop(columns='type', inplace=True)\n",
    "    \n",
    "# Drop rows if type of users is different from 'user'\n",
    "# Then drop 'type' column\n",
    "else:\n",
    "    other_types = data['type']!='user'\n",
    "    data.drop(data[other_types].index, inplace=True)\n",
    "    data.drop(columns='type', inplace=True)"
   ]
  },
  {
   "cell_type": "code",
   "execution_count": 6,
   "metadata": {},
   "outputs": [
    {
     "name": "stdout",
     "output_type": "stream",
     "text": [
      "Duplicated rows : 0\n",
      "Missing values: 0\n"
     ]
    }
   ],
   "source": [
    "# Check duplicated rows\n",
    "print(f'Duplicated rows : {data.duplicated().sum()}')\n",
    "# Find missing values \n",
    "print(f'Missing values: {data.isnull().sum().sum()}')"
   ]
  },
  {
   "cell_type": "code",
   "execution_count": 7,
   "metadata": {},
   "outputs": [
    {
     "data": {
      "text/html": [
       "<div>\n",
       "<style scoped>\n",
       "    .dataframe tbody tr th:only-of-type {\n",
       "        vertical-align: middle;\n",
       "    }\n",
       "\n",
       "    .dataframe tbody tr th {\n",
       "        vertical-align: top;\n",
       "    }\n",
       "\n",
       "    .dataframe thead th {\n",
       "        text-align: right;\n",
       "    }\n",
       "</style>\n",
       "<table border=\"1\" class=\"dataframe\">\n",
       "  <thead>\n",
       "    <tr style=\"text-align: right;\">\n",
       "      <th></th>\n",
       "      <th>country</th>\n",
       "      <th>language</th>\n",
       "      <th>socialNbFollowers</th>\n",
       "      <th>socialNbFollows</th>\n",
       "      <th>socialProductsLiked</th>\n",
       "      <th>productsListed</th>\n",
       "      <th>productsSold</th>\n",
       "      <th>productsPassRate</th>\n",
       "      <th>productsWished</th>\n",
       "      <th>productsBought</th>\n",
       "      <th>gender</th>\n",
       "      <th>hasAnyApp</th>\n",
       "      <th>hasAndroidApp</th>\n",
       "      <th>hasIosApp</th>\n",
       "      <th>hasProfilePicture</th>\n",
       "      <th>daysSinceLastLogin</th>\n",
       "      <th>seniority</th>\n",
       "    </tr>\n",
       "  </thead>\n",
       "  <tbody>\n",
       "    <tr>\n",
       "      <th>0</th>\n",
       "      <td>France</td>\n",
       "      <td>fr</td>\n",
       "      <td>31</td>\n",
       "      <td>8</td>\n",
       "      <td>0</td>\n",
       "      <td>1</td>\n",
       "      <td>1</td>\n",
       "      <td>0.0</td>\n",
       "      <td>0</td>\n",
       "      <td>1</td>\n",
       "      <td>F</td>\n",
       "      <td>True</td>\n",
       "      <td>False</td>\n",
       "      <td>True</td>\n",
       "      <td>False</td>\n",
       "      <td>127</td>\n",
       "      <td>3205</td>\n",
       "    </tr>\n",
       "    <tr>\n",
       "      <th>1</th>\n",
       "      <td>France</td>\n",
       "      <td>fr</td>\n",
       "      <td>7</td>\n",
       "      <td>8</td>\n",
       "      <td>6</td>\n",
       "      <td>1</td>\n",
       "      <td>1</td>\n",
       "      <td>0.0</td>\n",
       "      <td>0</td>\n",
       "      <td>0</td>\n",
       "      <td>F</td>\n",
       "      <td>True</td>\n",
       "      <td>False</td>\n",
       "      <td>True</td>\n",
       "      <td>True</td>\n",
       "      <td>485</td>\n",
       "      <td>3205</td>\n",
       "    </tr>\n",
       "    <tr>\n",
       "      <th>2</th>\n",
       "      <td>Royaume-Uni</td>\n",
       "      <td>en</td>\n",
       "      <td>10</td>\n",
       "      <td>8</td>\n",
       "      <td>0</td>\n",
       "      <td>0</td>\n",
       "      <td>3</td>\n",
       "      <td>66.0</td>\n",
       "      <td>0</td>\n",
       "      <td>0</td>\n",
       "      <td>F</td>\n",
       "      <td>True</td>\n",
       "      <td>False</td>\n",
       "      <td>True</td>\n",
       "      <td>True</td>\n",
       "      <td>665</td>\n",
       "      <td>3205</td>\n",
       "    </tr>\n",
       "    <tr>\n",
       "      <th>3</th>\n",
       "      <td>France</td>\n",
       "      <td>fr</td>\n",
       "      <td>3</td>\n",
       "      <td>8</td>\n",
       "      <td>0</td>\n",
       "      <td>0</td>\n",
       "      <td>1</td>\n",
       "      <td>0.0</td>\n",
       "      <td>0</td>\n",
       "      <td>0</td>\n",
       "      <td>M</td>\n",
       "      <td>False</td>\n",
       "      <td>False</td>\n",
       "      <td>False</td>\n",
       "      <td>True</td>\n",
       "      <td>405</td>\n",
       "      <td>3205</td>\n",
       "    </tr>\n",
       "    <tr>\n",
       "      <th>4</th>\n",
       "      <td>Royaume-Uni</td>\n",
       "      <td>en</td>\n",
       "      <td>16</td>\n",
       "      <td>0</td>\n",
       "      <td>6</td>\n",
       "      <td>0</td>\n",
       "      <td>1</td>\n",
       "      <td>0.0</td>\n",
       "      <td>303</td>\n",
       "      <td>32</td>\n",
       "      <td>M</td>\n",
       "      <td>True</td>\n",
       "      <td>True</td>\n",
       "      <td>False</td>\n",
       "      <td>False</td>\n",
       "      <td>20</td>\n",
       "      <td>3205</td>\n",
       "    </tr>\n",
       "  </tbody>\n",
       "</table>\n",
       "</div>"
      ],
      "text/plain": [
       "       country language  socialNbFollowers  socialNbFollows  \\\n",
       "0       France       fr                 31                8   \n",
       "1       France       fr                  7                8   \n",
       "2  Royaume-Uni       en                 10                8   \n",
       "3       France       fr                  3                8   \n",
       "4  Royaume-Uni       en                 16                0   \n",
       "\n",
       "   socialProductsLiked  productsListed  productsSold  productsPassRate  \\\n",
       "0                    0               1             1               0.0   \n",
       "1                    6               1             1               0.0   \n",
       "2                    0               0             3              66.0   \n",
       "3                    0               0             1               0.0   \n",
       "4                    6               0             1               0.0   \n",
       "\n",
       "   productsWished  productsBought gender  hasAnyApp  hasAndroidApp  hasIosApp  \\\n",
       "0               0               1      F       True          False       True   \n",
       "1               0               0      F       True          False       True   \n",
       "2               0               0      F       True          False       True   \n",
       "3               0               0      M      False          False      False   \n",
       "4             303              32      M       True           True      False   \n",
       "\n",
       "   hasProfilePicture  daysSinceLastLogin  seniority  \n",
       "0              False                 127       3205  \n",
       "1               True                 485       3205  \n",
       "2               True                 665       3205  \n",
       "3               True                 405       3205  \n",
       "4              False                  20       3205  "
      ]
     },
     "execution_count": 7,
     "metadata": {},
     "output_type": "execute_result"
    }
   ],
   "source": [
    "# Filter data of active users, who has sold products\n",
    "\n",
    "###################################### FILTER ################################################\n",
    "\n",
    "# List of columns related to user activity in selling of products\n",
    "#products = ['socialProductsLiked', 'productsListed', 'productsSold', 'productsWished', 'productsBought']\n",
    "#products = ['productsSold', 'productsListed']\n",
    "products = ['productsSold']\n",
    "# Calculate sum across rows\n",
    "data['productSum'] = data[products].sum(axis=1)\n",
    "\n",
    "# Filter data of user who have any activity (sum > 0)\n",
    "data = data[data['productSum'] > 0]\n",
    "###################################### END FILTER ################################################\n",
    "\n",
    "# Drop utility 'productSum' column\n",
    "data.drop(columns=['productSum', 'identifierHash'], inplace=True)\n",
    "\n",
    "# Reset index\n",
    "data.reset_index(drop=True, inplace=True)\n",
    "\n",
    "# Preview data\n",
    "data.head()"
   ]
  },
  {
   "cell_type": "code",
   "execution_count": 8,
   "metadata": {},
   "outputs": [
    {
     "name": "stdout",
     "output_type": "stream",
     "text": [
      "(2036, 17)\n"
     ]
    }
   ],
   "source": [
    "# Get the dimensionality of the dataset\n",
    "print(data.shape)"
   ]
  },
  {
   "cell_type": "code",
   "execution_count": 9,
   "metadata": {},
   "outputs": [
    {
     "data": {
      "text/html": [
       "<div>\n",
       "<style scoped>\n",
       "    .dataframe tbody tr th:only-of-type {\n",
       "        vertical-align: middle;\n",
       "    }\n",
       "\n",
       "    .dataframe tbody tr th {\n",
       "        vertical-align: top;\n",
       "    }\n",
       "\n",
       "    .dataframe thead th {\n",
       "        text-align: right;\n",
       "    }\n",
       "</style>\n",
       "<table border=\"1\" class=\"dataframe\">\n",
       "  <thead>\n",
       "    <tr style=\"text-align: right;\">\n",
       "      <th></th>\n",
       "      <th>socialNbFollowers</th>\n",
       "      <th>socialNbFollows</th>\n",
       "      <th>socialProductsLiked</th>\n",
       "      <th>productsListed</th>\n",
       "      <th>productsSold</th>\n",
       "      <th>productsPassRate</th>\n",
       "      <th>productsWished</th>\n",
       "      <th>productsBought</th>\n",
       "      <th>daysSinceLastLogin</th>\n",
       "      <th>seniority</th>\n",
       "    </tr>\n",
       "  </thead>\n",
       "  <tbody>\n",
       "    <tr>\n",
       "      <th>count</th>\n",
       "      <td>2036.000000</td>\n",
       "      <td>2036.000000</td>\n",
       "      <td>2036.000000</td>\n",
       "      <td>2036.000000</td>\n",
       "      <td>2036.000000</td>\n",
       "      <td>2036.000000</td>\n",
       "      <td>2036.000000</td>\n",
       "      <td>2036.000000</td>\n",
       "      <td>2036.000000</td>\n",
       "      <td>2036.000000</td>\n",
       "    </tr>\n",
       "    <tr>\n",
       "      <th>mean</th>\n",
       "      <td>11.848723</td>\n",
       "      <td>24.544204</td>\n",
       "      <td>70.349705</td>\n",
       "      <td>3.973477</td>\n",
       "      <td>5.907171</td>\n",
       "      <td>39.463310</td>\n",
       "      <td>18.294204</td>\n",
       "      <td>2.439096</td>\n",
       "      <td>190.700393</td>\n",
       "      <td>3063.709234</td>\n",
       "    </tr>\n",
       "    <tr>\n",
       "      <th>std</th>\n",
       "      <td>24.246375</td>\n",
       "      <td>367.788293</td>\n",
       "      <td>1183.479716</td>\n",
       "      <td>13.663211</td>\n",
       "      <td>13.626529</td>\n",
       "      <td>44.563032</td>\n",
       "      <td>108.396766</td>\n",
       "      <td>13.971495</td>\n",
       "      <td>226.993545</td>\n",
       "      <td>168.489727</td>\n",
       "    </tr>\n",
       "    <tr>\n",
       "      <th>min</th>\n",
       "      <td>3.000000</td>\n",
       "      <td>0.000000</td>\n",
       "      <td>0.000000</td>\n",
       "      <td>0.000000</td>\n",
       "      <td>1.000000</td>\n",
       "      <td>0.000000</td>\n",
       "      <td>0.000000</td>\n",
       "      <td>0.000000</td>\n",
       "      <td>11.000000</td>\n",
       "      <td>2852.000000</td>\n",
       "    </tr>\n",
       "    <tr>\n",
       "      <th>25%</th>\n",
       "      <td>4.000000</td>\n",
       "      <td>8.000000</td>\n",
       "      <td>0.000000</td>\n",
       "      <td>0.000000</td>\n",
       "      <td>1.000000</td>\n",
       "      <td>0.000000</td>\n",
       "      <td>0.000000</td>\n",
       "      <td>0.000000</td>\n",
       "      <td>14.000000</td>\n",
       "      <td>2857.000000</td>\n",
       "    </tr>\n",
       "    <tr>\n",
       "      <th>50%</th>\n",
       "      <td>6.000000</td>\n",
       "      <td>8.000000</td>\n",
       "      <td>1.000000</td>\n",
       "      <td>1.000000</td>\n",
       "      <td>2.000000</td>\n",
       "      <td>0.000000</td>\n",
       "      <td>0.000000</td>\n",
       "      <td>0.000000</td>\n",
       "      <td>58.500000</td>\n",
       "      <td>3196.000000</td>\n",
       "    </tr>\n",
       "    <tr>\n",
       "      <th>75%</th>\n",
       "      <td>11.000000</td>\n",
       "      <td>9.000000</td>\n",
       "      <td>12.000000</td>\n",
       "      <td>3.000000</td>\n",
       "      <td>5.000000</td>\n",
       "      <td>91.000000</td>\n",
       "      <td>2.000000</td>\n",
       "      <td>1.000000</td>\n",
       "      <td>346.000000</td>\n",
       "      <td>3201.000000</td>\n",
       "    </tr>\n",
       "    <tr>\n",
       "      <th>max</th>\n",
       "      <td>744.000000</td>\n",
       "      <td>13764.000000</td>\n",
       "      <td>51671.000000</td>\n",
       "      <td>244.000000</td>\n",
       "      <td>174.000000</td>\n",
       "      <td>100.000000</td>\n",
       "      <td>1916.000000</td>\n",
       "      <td>405.000000</td>\n",
       "      <td>709.000000</td>\n",
       "      <td>3205.000000</td>\n",
       "    </tr>\n",
       "  </tbody>\n",
       "</table>\n",
       "</div>"
      ],
      "text/plain": [
       "       socialNbFollowers  socialNbFollows  socialProductsLiked  \\\n",
       "count        2036.000000      2036.000000          2036.000000   \n",
       "mean           11.848723        24.544204            70.349705   \n",
       "std            24.246375       367.788293          1183.479716   \n",
       "min             3.000000         0.000000             0.000000   \n",
       "25%             4.000000         8.000000             0.000000   \n",
       "50%             6.000000         8.000000             1.000000   \n",
       "75%            11.000000         9.000000            12.000000   \n",
       "max           744.000000     13764.000000         51671.000000   \n",
       "\n",
       "       productsListed  productsSold  productsPassRate  productsWished  \\\n",
       "count     2036.000000   2036.000000       2036.000000     2036.000000   \n",
       "mean         3.973477      5.907171         39.463310       18.294204   \n",
       "std         13.663211     13.626529         44.563032      108.396766   \n",
       "min          0.000000      1.000000          0.000000        0.000000   \n",
       "25%          0.000000      1.000000          0.000000        0.000000   \n",
       "50%          1.000000      2.000000          0.000000        0.000000   \n",
       "75%          3.000000      5.000000         91.000000        2.000000   \n",
       "max        244.000000    174.000000        100.000000     1916.000000   \n",
       "\n",
       "       productsBought  daysSinceLastLogin    seniority  \n",
       "count     2036.000000         2036.000000  2036.000000  \n",
       "mean         2.439096          190.700393  3063.709234  \n",
       "std         13.971495          226.993545   168.489727  \n",
       "min          0.000000           11.000000  2852.000000  \n",
       "25%          0.000000           14.000000  2857.000000  \n",
       "50%          0.000000           58.500000  3196.000000  \n",
       "75%          1.000000          346.000000  3201.000000  \n",
       "max        405.000000          709.000000  3205.000000  "
      ]
     },
     "execution_count": 9,
     "metadata": {},
     "output_type": "execute_result"
    }
   ],
   "source": [
    "# Get statistics for numeric columns\n",
    "data.describe() "
   ]
  },
  {
   "cell_type": "code",
   "execution_count": 10,
   "metadata": {},
   "outputs": [
    {
     "name": "stdout",
     "output_type": "stream",
     "text": [
      "Columns\n",
      "Numeric: 10 \n",
      "['socialNbFollowers', 'socialNbFollows', 'socialProductsLiked', 'productsListed', 'productsSold', 'productsPassRate', 'productsWished', 'productsBought', 'daysSinceLastLogin', 'seniority']\n",
      "Categorical: 3 \n",
      "['country', 'language', 'gender']\n",
      "Boolean: 4 \n",
      "['hasAnyApp', 'hasAndroidApp', 'hasIosApp', 'hasProfilePicture']\n"
     ]
    }
   ],
   "source": [
    "# Split up numeric, categorical, and boolean columns \n",
    "print('Columns')\n",
    "numeric_cols = data.select_dtypes([np.int64,np.float64]).columns.tolist()\n",
    "print (f'Numeric: {len(numeric_cols)} \\n{numeric_cols}')\n",
    "\n",
    "categorical_cols = data.select_dtypes([np.object]).columns.tolist()\n",
    "print (f'Categorical: {len(categorical_cols)} \\n{categorical_cols}')\n",
    "\n",
    "booleans_cols = data.select_dtypes([np.bool]).columns.tolist()\n",
    "print (f'Boolean: {len(booleans_cols)} \\n{booleans_cols}')"
   ]
  },
  {
   "cell_type": "code",
   "execution_count": 11,
   "metadata": {},
   "outputs": [
    {
     "data": {
      "image/png": "[encoded data removed]",
      "text/plain": [
       "<Figure size 792x612 with 12 Axes>"
      ]
     },
     "metadata": {
      "needs_background": "light"
     },
     "output_type": "display_data"
    }
   ],
   "source": [
    "# Plot the distribution of numerical columns\n",
    "\n",
    "# Create list of numerical columns for plots\n",
    "# Copy the list of numerical columns\n",
    "numeric_cols_plot = numeric_cols.copy()\n",
    "\n",
    "# Plot histograms\n",
    "data[numeric_cols_plot].hist(figsize=(11,8.5), bins=100)\n",
    "plt.tight_layout()"
   ]
  },
  {
   "cell_type": "code",
   "execution_count": 12,
   "metadata": {},
   "outputs": [
    {
     "name": "stdout",
     "output_type": "stream",
     "text": [
      "\n",
      " \t Percentage of zero values\n",
      "'socialNbFollowers':  0 - 0.0%\n",
      "'socialNbFollows':  14 - 0.69%\n",
      "'socialProductsLiked':  795 - 39.05%\n",
      "'productsWished':  1300 - 63.85%\n",
      "'productsBought':  1474 - 72.4%\n",
      "'productsSold':  0 - 0.0%\n",
      "'productsListed':  995 - 48.87%\n",
      "\n",
      " \t Percentage of values in (0,10] interval\n",
      "'socialNbFollowers':  1478 - 72.59%\n",
      "'socialNbFollows':  1798 - 88.31%\n",
      "'socialProductsLiked':  691 - 33.94%\n",
      "'productsWished':  471 - 23.13%\n",
      "'productsBought':  467 - 22.94%\n",
      "'productsSold':  1781 - 87.48%\n",
      "'productsListed':  875 - 42.98%\n"
     ]
    },
    {
     "data": {
      "image/png": "[encoded data removed]",
      "text/plain": [
       "<Figure size 936x180 with 4 Axes>"
      ]
     },
     "metadata": {
      "needs_background": "light"
     },
     "output_type": "display_data"
    },
    {
     "data": {
      "image/png": "[encoded data removed]",
      "text/plain": [
       "<Figure size 705.6x158.4 with 3 Axes>"
      ]
     },
     "metadata": {
      "needs_background": "light"
     },
     "output_type": "display_data"
    }
   ],
   "source": [
    "# Plot the distribution of numerical columns in [0,10] interval\n",
    "num_columns_1 = ['socialNbFollowers', 'socialNbFollows', 'socialProductsLiked', 'productsWished'] \n",
    "num_columns_2 = ['productsBought','productsSold', 'productsListed']\n",
    "rows=len(data)\n",
    "\n",
    "n=10\n",
    "\n",
    "fig, axes = plt.subplots(nrows=1,ncols=4,figsize=(13,2.5))\n",
    "fig.suptitle(f'Distribution of values in [0,{n}] interval', fontsize=fontsize)\n",
    "for index,col in enumerate(num_columns_1):\n",
    "    sns.countplot(x=data[data[col]<= n][col], ax=axes[index], order=range(0,11), color=color)\n",
    "plt.tight_layout()\n",
    "\n",
    "fig, axes = plt.subplots(nrows=1,ncols=3,figsize=(9.8,2.2))\n",
    "for index,col in enumerate(num_columns_2):\n",
    "    sns.countplot(x=data[data[col]<= n][col], ax=axes[index], order=range(0,11), color=color)\n",
    "plt.tight_layout()\n",
    "\n",
    "m=0\n",
    "\n",
    "num_columns_list = num_columns_1 + num_columns_2\n",
    "print('\\n \\t Percentage of zero values')\n",
    "for index,col in enumerate(num_columns_list):\n",
    "    number_values = len(data[data[col] == m][col])\n",
    "    percent_values = round(number_values/rows*100,2)\n",
    "    print(f\"'{col}':  {number_values} - {percent_values}%\")\n",
    "    \n",
    "print(f'\\n \\t Percentage of values in (0,{n}] interval')\n",
    "for index,col in enumerate(num_columns_list):\n",
    "    number_values = len(data[(data[col] > m) & (data[col] <= n)][col])\n",
    "    percent_values = round(number_values/rows*100,2)\n",
    "    print(f\"'{col}':  {number_values} - {percent_values}%\")"
   ]
  },
  {
   "cell_type": "code",
   "execution_count": 13,
   "metadata": {},
   "outputs": [
    {
     "name": "stdout",
     "output_type": "stream",
     "text": [
      "\n",
      " \t Number of values greater than 100\n",
      "'socialNbFollowers':  19\n",
      "'socialNbFollows':  17\n",
      "'socialProductsLiked':  142\n",
      "'productsWished':  83\n",
      "'productsBought':  5\n",
      "'productsSold':  9\n",
      "'productsListed':  10\n"
     ]
    },
    {
     "data": {
      "image/png": "[encoded data removed]",
      "text/plain": [
       "<Figure size 936x180 with 4 Axes>"
      ]
     },
     "metadata": {
      "needs_background": "light"
     },
     "output_type": "display_data"
    },
    {
     "data": {
      "image/png": "[encoded data removed]",
      "text/plain": [
       "<Figure size 705.6x158.4 with 3 Axes>"
      ]
     },
     "metadata": {
      "needs_background": "light"
     },
     "output_type": "display_data"
    }
   ],
   "source": [
    "# Plot the distribution of numerical columns in [100, ) interval\n",
    "\n",
    "\n",
    "fig, axes = plt.subplots(nrows=1,ncols=4,figsize=(13,2.5))\n",
    "fig.suptitle('Distribution of values > 100', fontsize=fontsize)\n",
    "for index,col in enumerate(num_columns_1):\n",
    "    sns.histplot(x=data[data[col]>100][col], ax=axes[index], bins=20, color=color)\n",
    "plt.tight_layout()\n",
    "\n",
    "fig, axes = plt.subplots(nrows=1,ncols=3,figsize=(9.8,2.2))\n",
    "for index,col in enumerate(num_columns_2):\n",
    "    sns.histplot(x=data[data[col]>100][col], ax=axes[index], bins=20, color=color)\n",
    "plt.tight_layout()\n",
    "\n",
    "print('\\n \\t Number of values greater than 100')\n",
    "for index,col in enumerate(num_columns_list):\n",
    "    print(f\"'{col}':  {len(data[data[col]>100][col])}\")"
   ]
  },
  {
   "cell_type": "code",
   "execution_count": 14,
   "metadata": {},
   "outputs": [
    {
     "data": {
      "text/plain": [
       "Text(0.5, 1.0, 'Correlation Matrix')"
      ]
     },
     "execution_count": 14,
     "metadata": {},
     "output_type": "execute_result"
    },
    {
     "data": {
      "image/png": "[encoded data removed]",
      "text/plain": [
       "<Figure size 576x504 with 2 Axes>"
      ]
     },
     "metadata": {
      "needs_background": "light"
     },
     "output_type": "display_data"
    }
   ],
   "source": [
    "# Generate our corelation plot or heatmap\n",
    "corr = data[numeric_cols_plot].corr()\n",
    "fig, ax = plt.subplots(figsize=(8,7))\n",
    "ax = sns.heatmap(corr,annot=True,cmap='viridis')\n",
    "plt.title('Correlation Matrix', fontsize=fontsize) "
   ]
  },
  {
   "cell_type": "code",
   "execution_count": 15,
   "metadata": {},
   "outputs": [
    {
     "data": {
      "text/plain": [
       "Text(0.5, 1.0, \"Correlation of the numeric features to the 'productsSold' column\")"
      ]
     },
     "execution_count": 15,
     "metadata": {},
     "output_type": "execute_result"
    },
    {
     "data": {
      "image/png": "[encoded data removed]",
      "text/plain": [
       "<Figure size 576x252 with 1 Axes>"
      ]
     },
     "metadata": {
      "needs_background": "light"
     },
     "output_type": "display_data"
    }
   ],
   "source": [
    "fig, ax = plt.subplots(figsize=(8,3.5))\n",
    "ax = corr['productsSold'].sort_values().drop('productsSold').plot(kind='bar')\n",
    "ax.xaxis.set_tick_params(rotation=25)\n",
    "plt.title(\"Correlation of the numeric features to the 'productsSold' column\")"
   ]
  },
  {
   "cell_type": "code",
   "execution_count": 16,
   "metadata": {},
   "outputs": [
    {
     "data": {
      "text/plain": [
       "Text(0.5, 1.0, \"Correlation of the numeric features to the 'productsBought' column\")"
      ]
     },
     "execution_count": 16,
     "metadata": {},
     "output_type": "execute_result"
    },
    {
     "data": {
      "image/png": "[encoded data removed]",
      "text/plain": [
       "<Figure size 576x252 with 1 Axes>"
      ]
     },
     "metadata": {
      "needs_background": "light"
     },
     "output_type": "display_data"
    }
   ],
   "source": [
    "fig, ax = plt.subplots(figsize=(8,3.5))\n",
    "ax = corr['productsBought'].sort_values().drop('productsBought').plot(kind='bar')\n",
    "ax.xaxis.set_tick_params(rotation=25)\n",
    "plt.title(\"Correlation of the numeric features to the 'productsBought' column\")"
   ]
  },
  {
   "cell_type": "code",
   "execution_count": 17,
   "metadata": {},
   "outputs": [],
   "source": [
    "# Generate pairplot\n",
    "#sns.pairplot(data[numeric_cols_plot].drop(['daysSinceLastLogin','seniority'], axis=1))"
   ]
  },
  {
   "cell_type": "code",
   "execution_count": 18,
   "metadata": {},
   "outputs": [
    {
     "data": {
      "image/png": "[encoded data removed]",
      "text/plain": [
       "<Figure size 864x144 with 4 Axes>"
      ]
     },
     "metadata": {
      "needs_background": "light"
     },
     "output_type": "display_data"
    }
   ],
   "source": [
    "# Plot booleans data\n",
    "fig, axes = plt.subplots(nrows=1,ncols=4,figsize=(12,2))\n",
    "for index, column in enumerate(booleans_cols):\n",
    "    ax=sns.countplot(x=data[column],orient='h', ax=axes[index], color=color)\n",
    "    ax.set_title(data[column].name)\n",
    "    ax.set_xlabel('')\n",
    "    ax.set_ylabel('')\n",
    "plt.tight_layout()"
   ]
  },
  {
   "cell_type": "code",
   "execution_count": 19,
   "metadata": {},
   "outputs": [
    {
     "name": "stdout",
     "output_type": "stream",
     "text": [
      "Countries: 42\n"
     ]
    },
    {
     "data": {
      "text/html": [
       "<div>\n",
       "<style scoped>\n",
       "    .dataframe tbody tr th:only-of-type {\n",
       "        vertical-align: middle;\n",
       "    }\n",
       "\n",
       "    .dataframe tbody tr th {\n",
       "        vertical-align: top;\n",
       "    }\n",
       "\n",
       "    .dataframe thead th {\n",
       "        text-align: right;\n",
       "    }\n",
       "</style>\n",
       "<table border=\"1\" class=\"dataframe\">\n",
       "  <thead>\n",
       "    <tr style=\"text-align: right;\">\n",
       "      <th></th>\n",
       "      <th>users</th>\n",
       "      <th>users_%_total</th>\n",
       "    </tr>\n",
       "  </thead>\n",
       "  <tbody>\n",
       "    <tr>\n",
       "      <th>France</th>\n",
       "      <td>713</td>\n",
       "      <td>35.0</td>\n",
       "    </tr>\n",
       "    <tr>\n",
       "      <th>Italy</th>\n",
       "      <td>347</td>\n",
       "      <td>17.0</td>\n",
       "    </tr>\n",
       "    <tr>\n",
       "      <th>UK</th>\n",
       "      <td>289</td>\n",
       "      <td>14.2</td>\n",
       "    </tr>\n",
       "    <tr>\n",
       "      <th>US</th>\n",
       "      <td>150</td>\n",
       "      <td>7.4</td>\n",
       "    </tr>\n",
       "    <tr>\n",
       "      <th>Spain</th>\n",
       "      <td>119</td>\n",
       "      <td>5.8</td>\n",
       "    </tr>\n",
       "    <tr>\n",
       "      <th>Germany</th>\n",
       "      <td>105</td>\n",
       "      <td>5.2</td>\n",
       "    </tr>\n",
       "    <tr>\n",
       "      <th>Netherlands</th>\n",
       "      <td>54</td>\n",
       "      <td>2.7</td>\n",
       "    </tr>\n",
       "    <tr>\n",
       "      <th>Belgium</th>\n",
       "      <td>35</td>\n",
       "      <td>1.7</td>\n",
       "    </tr>\n",
       "    <tr>\n",
       "      <th>Sweden</th>\n",
       "      <td>32</td>\n",
       "      <td>1.6</td>\n",
       "    </tr>\n",
       "    <tr>\n",
       "      <th>Denmark</th>\n",
       "      <td>22</td>\n",
       "      <td>1.1</td>\n",
       "    </tr>\n",
       "    <tr>\n",
       "      <th>Austria</th>\n",
       "      <td>18</td>\n",
       "      <td>0.9</td>\n",
       "    </tr>\n",
       "    <tr>\n",
       "      <th>Swiss</th>\n",
       "      <td>14</td>\n",
       "      <td>0.7</td>\n",
       "    </tr>\n",
       "    <tr>\n",
       "      <th>Romania</th>\n",
       "      <td>13</td>\n",
       "      <td>0.6</td>\n",
       "    </tr>\n",
       "    <tr>\n",
       "      <th>Grèce</th>\n",
       "      <td>11</td>\n",
       "      <td>0.5</td>\n",
       "    </tr>\n",
       "    <tr>\n",
       "      <th>Portugal</th>\n",
       "      <td>11</td>\n",
       "      <td>0.5</td>\n",
       "    </tr>\n",
       "    <tr>\n",
       "      <th>Australia</th>\n",
       "      <td>10</td>\n",
       "      <td>0.5</td>\n",
       "    </tr>\n",
       "    <tr>\n",
       "      <th>Hong Kong</th>\n",
       "      <td>10</td>\n",
       "      <td>0.5</td>\n",
       "    </tr>\n",
       "    <tr>\n",
       "      <th>Croatie</th>\n",
       "      <td>10</td>\n",
       "      <td>0.5</td>\n",
       "    </tr>\n",
       "    <tr>\n",
       "      <th>Bulgaria</th>\n",
       "      <td>9</td>\n",
       "      <td>0.4</td>\n",
       "    </tr>\n",
       "    <tr>\n",
       "      <th>Luxembourg</th>\n",
       "      <td>7</td>\n",
       "      <td>0.3</td>\n",
       "    </tr>\n",
       "  </tbody>\n",
       "</table>\n",
       "</div>"
      ],
      "text/plain": [
       "             users  users_%_total\n",
       "France         713           35.0\n",
       "Italy          347           17.0\n",
       "UK             289           14.2\n",
       "US             150            7.4\n",
       "Spain          119            5.8\n",
       "Germany        105            5.2\n",
       "Netherlands     54            2.7\n",
       "Belgium         35            1.7\n",
       "Sweden          32            1.6\n",
       "Denmark         22            1.1\n",
       "Austria         18            0.9\n",
       "Swiss           14            0.7\n",
       "Romania         13            0.6\n",
       "Grèce           11            0.5\n",
       "Portugal        11            0.5\n",
       "Australia       10            0.5\n",
       "Hong Kong       10            0.5\n",
       "Croatie         10            0.5\n",
       "Bulgaria         9            0.4\n",
       "Luxembourg       7            0.3"
      ]
     },
     "execution_count": 19,
     "metadata": {},
     "output_type": "execute_result"
    }
   ],
   "source": [
    "# Plot categorical data\n",
    "# Count number of countries\n",
    "countries_number = len(data['country'].unique().tolist())\n",
    "print(f'Countries: {countries_number}')\n",
    "\n",
    "# Translate the list of countries into English \n",
    "data['country'] = data['country'].replace({\n",
    "     'Royaume-Uni':'UK', 'Danemark':'Denmark','Etats-Unis':'US', 'Allemagne':'Germany', \n",
    "     'Suisse':'Swiss','Suède':'Sweden','Australie':'Australia','Italie':'Italy', 'Espagne':'Spain', \n",
    "     'Finlande':'Finland','Belgique':'Belgium','Pays-Bas':'Netherlands', 'Autriche':'Austria', \n",
    "    'Russie':'Russia', 'Bulgarie':'Bulgaria', 'Chine':'China', 'Irlande': 'Ireland', 'Roumanie':'Romania'})\n",
    "\n",
    "# Group users by country\n",
    "countries=pd.DataFrame(data['country'].value_counts()).sort_values(by='country',ascending=False)\n",
    "countries.rename(columns={'country':'users'}, inplace=True)\n",
    "# Calculate % of total users by country\n",
    "countries['users_%_total'] = round(countries['users']/countries['users'].sum(),3)*100\n",
    "\n",
    "# Number of users by country\n",
    "users_20 = countries.head(20)\n",
    "users_20"
   ]
  },
  {
   "cell_type": "code",
   "execution_count": 20,
   "metadata": {},
   "outputs": [
    {
     "data": {
      "image/png": "[encoded data removed]",
      "text/plain": [
       "<Figure size 576x216 with 1 Axes>"
      ]
     },
     "metadata": {
      "needs_background": "light"
     },
     "output_type": "display_data"
    }
   ],
   "source": [
    "# Plot categorical data\n",
    "fig, ax1 = plt.subplots(figsize=(8,3))\n",
    "\n",
    "sns.barplot(x=users_20.index, y=users_20['users'], color=color, ax=ax1)\n",
    "\n",
    "ax1.set_title('Users by country')\n",
    "ax1.set_xlabel('')\n",
    "ax1.set_ylabel('')\n",
    "ax1.xaxis.set_tick_params(rotation=25)\n",
    "\n",
    "plt.tight_layout()"
   ]
  },
  {
   "cell_type": "code",
   "execution_count": 21,
   "metadata": {},
   "outputs": [
    {
     "data": {
      "image/png": "[encoded data removed]",
      "text/plain": [
       "<Figure size 576x180 with 2 Axes>"
      ]
     },
     "metadata": {
      "needs_background": "light"
     },
     "output_type": "display_data"
    }
   ],
   "source": [
    "# Plot categorical data\n",
    "fig, (ax1, ax2) = plt.subplots(ncols=2,nrows=1, figsize=(8,2.5))\n",
    "\n",
    "sns.countplot(x=data['language'],orient='h', color=color, ax=ax1)\n",
    "sns.countplot(x=data['gender'],orient='h', color=color, ax=ax2)\n",
    "\n",
    "ax1.set_title('Users by language')\n",
    "ax1.set_xlabel('')\n",
    "ax1.set_ylabel('')\n",
    "\n",
    "ax2.set_title('Users by gender')\n",
    "ax2.set_xlabel('')\n",
    "ax2.set_ylabel('')\n",
    "\n",
    "plt.tight_layout()"
   ]
  },
  {
   "cell_type": "code",
   "execution_count": 22,
   "metadata": {},
   "outputs": [
    {
     "name": "stdout",
     "output_type": "stream",
     "text": [
      "Sold products by top 10 countries\n"
     ]
    },
    {
     "data": {
      "text/html": [
       "<div>\n",
       "<style scoped>\n",
       "    .dataframe tbody tr th:only-of-type {\n",
       "        vertical-align: middle;\n",
       "    }\n",
       "\n",
       "    .dataframe tbody tr th {\n",
       "        vertical-align: top;\n",
       "    }\n",
       "\n",
       "    .dataframe thead tr th {\n",
       "        text-align: left;\n",
       "    }\n",
       "</style>\n",
       "<table border=\"1\" class=\"dataframe\">\n",
       "  <thead>\n",
       "    <tr>\n",
       "      <th></th>\n",
       "      <th>country</th>\n",
       "      <th>productsSold</th>\n",
       "      <th>productsListed</th>\n",
       "      <th>%sold</th>\n",
       "      <th>%listed</th>\n",
       "    </tr>\n",
       "    <tr>\n",
       "      <th></th>\n",
       "      <th></th>\n",
       "      <th>sum</th>\n",
       "      <th>sum</th>\n",
       "      <th></th>\n",
       "      <th></th>\n",
       "    </tr>\n",
       "  </thead>\n",
       "  <tbody>\n",
       "    <tr>\n",
       "      <th>1</th>\n",
       "      <td>France</td>\n",
       "      <td>3014</td>\n",
       "      <td>1892</td>\n",
       "      <td>25.1</td>\n",
       "      <td>23.4</td>\n",
       "    </tr>\n",
       "    <tr>\n",
       "      <th>2</th>\n",
       "      <td>Italy</td>\n",
       "      <td>2820</td>\n",
       "      <td>2218</td>\n",
       "      <td>23.4</td>\n",
       "      <td>27.4</td>\n",
       "    </tr>\n",
       "    <tr>\n",
       "      <th>3</th>\n",
       "      <td>UK</td>\n",
       "      <td>1806</td>\n",
       "      <td>927</td>\n",
       "      <td>15.0</td>\n",
       "      <td>11.5</td>\n",
       "    </tr>\n",
       "    <tr>\n",
       "      <th>4</th>\n",
       "      <td>Spain</td>\n",
       "      <td>990</td>\n",
       "      <td>594</td>\n",
       "      <td>8.2</td>\n",
       "      <td>7.3</td>\n",
       "    </tr>\n",
       "    <tr>\n",
       "      <th>5</th>\n",
       "      <td>US</td>\n",
       "      <td>967</td>\n",
       "      <td>816</td>\n",
       "      <td>8.0</td>\n",
       "      <td>10.1</td>\n",
       "    </tr>\n",
       "    <tr>\n",
       "      <th>6</th>\n",
       "      <td>Germany</td>\n",
       "      <td>536</td>\n",
       "      <td>264</td>\n",
       "      <td>4.5</td>\n",
       "      <td>3.3</td>\n",
       "    </tr>\n",
       "    <tr>\n",
       "      <th>7</th>\n",
       "      <td>Sweden</td>\n",
       "      <td>336</td>\n",
       "      <td>231</td>\n",
       "      <td>2.8</td>\n",
       "      <td>2.9</td>\n",
       "    </tr>\n",
       "    <tr>\n",
       "      <th>8</th>\n",
       "      <td>Netherlands</td>\n",
       "      <td>214</td>\n",
       "      <td>139</td>\n",
       "      <td>1.8</td>\n",
       "      <td>1.7</td>\n",
       "    </tr>\n",
       "    <tr>\n",
       "      <th>9</th>\n",
       "      <td>Monaco</td>\n",
       "      <td>190</td>\n",
       "      <td>26</td>\n",
       "      <td>1.6</td>\n",
       "      <td>0.3</td>\n",
       "    </tr>\n",
       "    <tr>\n",
       "      <th>10</th>\n",
       "      <td>Bulgaria</td>\n",
       "      <td>170</td>\n",
       "      <td>82</td>\n",
       "      <td>1.4</td>\n",
       "      <td>1.0</td>\n",
       "    </tr>\n",
       "  </tbody>\n",
       "</table>\n",
       "</div>"
      ],
      "text/plain": [
       "        country productsSold productsListed %sold %listed\n",
       "                         sum            sum              \n",
       "1        France         3014           1892  25.1    23.4\n",
       "2         Italy         2820           2218  23.4    27.4\n",
       "3            UK         1806            927  15.0    11.5\n",
       "4         Spain          990            594   8.2     7.3\n",
       "5            US          967            816   8.0    10.1\n",
       "6       Germany          536            264   4.5     3.3\n",
       "7        Sweden          336            231   2.8     2.9\n",
       "8   Netherlands          214            139   1.8     1.7\n",
       "9        Monaco          190             26   1.6     0.3\n",
       "10     Bulgaria          170             82   1.4     1.0"
      ]
     },
     "execution_count": 22,
     "metadata": {},
     "output_type": "execute_result"
    }
   ],
   "source": [
    "# Selling by country\n",
    "selling_filter = (data['productsListed']==0) & (data['productsSold']==0)\n",
    "selling_data = data[~selling_filter]\n",
    "selling_data_group=selling_data.groupby('country')[['productsSold', 'productsListed']].agg(['sum']).sort_values(by=('productsSold', 'sum'), ascending=False).reset_index()\n",
    "selling_data_group['%sold']=round(selling_data_group[('productsSold', 'sum')]/selling_data_group[('productsSold', 'sum')].sum(),3)*100\n",
    "selling_data_group['%listed']=round(selling_data_group[('productsListed', 'sum')]/selling_data_group[('productsListed', 'sum')].sum(),3)*100\n",
    "selling_top10=selling_data_group.nlargest(10,('productsSold', 'sum'))\n",
    "# Start the index from 1\n",
    "selling_top10.index=selling_top10.index+1\n",
    "print('Sold products by top 10 countries')\n",
    "selling_top10"
   ]
  },
  {
   "cell_type": "code",
   "execution_count": 23,
   "metadata": {},
   "outputs": [
    {
     "data": {
      "image/png": "[encoded data removed]",
      "text/plain": [
       "<Figure size 576x216 with 1 Axes>"
      ]
     },
     "metadata": {
      "needs_background": "light"
     },
     "output_type": "display_data"
    }
   ],
   "source": [
    "fig, ax = plt.subplots(figsize=(8,3))\n",
    "ax=sns.barplot(x=selling_top10['country'],y=selling_top10[('productsSold', 'sum')])\n",
    "ax.set_title('Sold products  by country')\n",
    "ax.set_xlabel('')\n",
    "ax.set_ylabel('')\n",
    "ax.xaxis.set_tick_params(rotation=45)\n",
    "\n",
    "plt.tight_layout()"
   ]
  },
  {
   "cell_type": "code",
   "execution_count": 24,
   "metadata": {},
   "outputs": [],
   "source": [
    "# Verification Selling\n",
    "#data.groupby('country')[[ 'productsSold','productsListed']].agg(['sum']).sort_values(by=('productsSold', 'sum'), ascending=False).T"
   ]
  },
  {
   "cell_type": "code",
   "execution_count": 25,
   "metadata": {},
   "outputs": [
    {
     "name": "stdout",
     "output_type": "stream",
     "text": [
      "Bought products by top 10 countries\n"
     ]
    },
    {
     "data": {
      "text/html": [
       "<div>\n",
       "<style scoped>\n",
       "    .dataframe tbody tr th:only-of-type {\n",
       "        vertical-align: middle;\n",
       "    }\n",
       "\n",
       "    .dataframe tbody tr th {\n",
       "        vertical-align: top;\n",
       "    }\n",
       "\n",
       "    .dataframe thead tr th {\n",
       "        text-align: left;\n",
       "    }\n",
       "</style>\n",
       "<table border=\"1\" class=\"dataframe\">\n",
       "  <thead>\n",
       "    <tr>\n",
       "      <th></th>\n",
       "      <th>country</th>\n",
       "      <th>productsBought</th>\n",
       "      <th>socialProductsLiked</th>\n",
       "      <th>productsWished</th>\n",
       "      <th>%bought</th>\n",
       "      <th>%liked</th>\n",
       "      <th>%wished</th>\n",
       "    </tr>\n",
       "    <tr>\n",
       "      <th></th>\n",
       "      <th></th>\n",
       "      <th>sum</th>\n",
       "      <th>sum</th>\n",
       "      <th>sum</th>\n",
       "      <th></th>\n",
       "      <th></th>\n",
       "      <th></th>\n",
       "    </tr>\n",
       "  </thead>\n",
       "  <tbody>\n",
       "    <tr>\n",
       "      <th>1</th>\n",
       "      <td>France</td>\n",
       "      <td>1187</td>\n",
       "      <td>19316</td>\n",
       "      <td>4974</td>\n",
       "      <td>23.9</td>\n",
       "      <td>13.5</td>\n",
       "      <td>13.4</td>\n",
       "    </tr>\n",
       "    <tr>\n",
       "      <th>2</th>\n",
       "      <td>US</td>\n",
       "      <td>548</td>\n",
       "      <td>5317</td>\n",
       "      <td>1384</td>\n",
       "      <td>11.0</td>\n",
       "      <td>3.7</td>\n",
       "      <td>3.7</td>\n",
       "    </tr>\n",
       "    <tr>\n",
       "      <th>3</th>\n",
       "      <td>UK</td>\n",
       "      <td>490</td>\n",
       "      <td>6157</td>\n",
       "      <td>3096</td>\n",
       "      <td>9.9</td>\n",
       "      <td>4.3</td>\n",
       "      <td>8.3</td>\n",
       "    </tr>\n",
       "    <tr>\n",
       "      <th>4</th>\n",
       "      <td>Belgium</td>\n",
       "      <td>447</td>\n",
       "      <td>732</td>\n",
       "      <td>2118</td>\n",
       "      <td>9.0</td>\n",
       "      <td>0.5</td>\n",
       "      <td>5.7</td>\n",
       "    </tr>\n",
       "    <tr>\n",
       "      <th>5</th>\n",
       "      <td>Italy</td>\n",
       "      <td>375</td>\n",
       "      <td>63125</td>\n",
       "      <td>6773</td>\n",
       "      <td>7.6</td>\n",
       "      <td>44.1</td>\n",
       "      <td>18.2</td>\n",
       "    </tr>\n",
       "    <tr>\n",
       "      <th>6</th>\n",
       "      <td>Spain</td>\n",
       "      <td>374</td>\n",
       "      <td>13661</td>\n",
       "      <td>4324</td>\n",
       "      <td>7.5</td>\n",
       "      <td>9.5</td>\n",
       "      <td>11.6</td>\n",
       "    </tr>\n",
       "    <tr>\n",
       "      <th>7</th>\n",
       "      <td>Germany</td>\n",
       "      <td>331</td>\n",
       "      <td>4606</td>\n",
       "      <td>3675</td>\n",
       "      <td>6.7</td>\n",
       "      <td>3.2</td>\n",
       "      <td>9.9</td>\n",
       "    </tr>\n",
       "    <tr>\n",
       "      <th>8</th>\n",
       "      <td>Netherlands</td>\n",
       "      <td>198</td>\n",
       "      <td>2506</td>\n",
       "      <td>896</td>\n",
       "      <td>4.0</td>\n",
       "      <td>1.7</td>\n",
       "      <td>2.4</td>\n",
       "    </tr>\n",
       "    <tr>\n",
       "      <th>9</th>\n",
       "      <td>Sweden</td>\n",
       "      <td>157</td>\n",
       "      <td>9161</td>\n",
       "      <td>1961</td>\n",
       "      <td>3.2</td>\n",
       "      <td>6.4</td>\n",
       "      <td>5.3</td>\n",
       "    </tr>\n",
       "    <tr>\n",
       "      <th>10</th>\n",
       "      <td>Luxembourg</td>\n",
       "      <td>137</td>\n",
       "      <td>455</td>\n",
       "      <td>156</td>\n",
       "      <td>2.8</td>\n",
       "      <td>0.3</td>\n",
       "      <td>0.4</td>\n",
       "    </tr>\n",
       "  </tbody>\n",
       "</table>\n",
       "</div>"
      ],
      "text/plain": [
       "        country productsBought socialProductsLiked productsWished %bought  \\\n",
       "                           sum                 sum            sum           \n",
       "1        France           1187               19316           4974    23.9   \n",
       "2            US            548                5317           1384    11.0   \n",
       "3            UK            490                6157           3096     9.9   \n",
       "4       Belgium            447                 732           2118     9.0   \n",
       "5         Italy            375               63125           6773     7.6   \n",
       "6         Spain            374               13661           4324     7.5   \n",
       "7       Germany            331                4606           3675     6.7   \n",
       "8   Netherlands            198                2506            896     4.0   \n",
       "9        Sweden            157                9161           1961     3.2   \n",
       "10   Luxembourg            137                 455            156     2.8   \n",
       "\n",
       "   %liked %wished  \n",
       "                   \n",
       "1    13.5    13.4  \n",
       "2     3.7     3.7  \n",
       "3     4.3     8.3  \n",
       "4     0.5     5.7  \n",
       "5    44.1    18.2  \n",
       "6     9.5    11.6  \n",
       "7     3.2     9.9  \n",
       "8     1.7     2.4  \n",
       "9     6.4     5.3  \n",
       "10    0.3     0.4  "
      ]
     },
     "execution_count": 25,
     "metadata": {},
     "output_type": "execute_result"
    }
   ],
   "source": [
    "# Buying by country\n",
    "buying_filter = (data['socialProductsLiked']==0) & (data['productsWished']==0) & (data['productsBought']==0)\n",
    "buying_data = data[~buying_filter]\n",
    "buying_data_group=buying_data.groupby('country')[['productsBought','socialProductsLiked', 'productsWished']].agg(['sum']).sort_values(by=('productsBought', 'sum'), ascending=False).reset_index()\n",
    "buying_data_group['%bought']=round(buying_data_group[('productsBought', 'sum')]/buying_data_group[('productsBought', 'sum')].sum(),3)*100\n",
    "buying_data_group['%liked']=round(buying_data_group[('socialProductsLiked', 'sum')]/buying_data_group[('socialProductsLiked', 'sum')].sum(),3)*100\n",
    "buying_data_group['%wished']=round(buying_data_group[('productsWished', 'sum')]/buying_data_group[('productsWished', 'sum')].sum(),3)*100\n",
    "buying_top10=buying_data_group.nlargest(10,('productsBought', 'sum'))\n",
    "# Start the index from 1\n",
    "buying_top10.index=buying_top10.index+1\n",
    "print('Bought products by top 10 countries')\n",
    "buying_top10"
   ]
  },
  {
   "cell_type": "code",
   "execution_count": 26,
   "metadata": {},
   "outputs": [
    {
     "data": {
      "image/png": "[encoded data removed]",
      "text/plain": [
       "<Figure size 720x216 with 1 Axes>"
      ]
     },
     "metadata": {
      "needs_background": "light"
     },
     "output_type": "display_data"
    }
   ],
   "source": [
    "fig, ax = plt.subplots(figsize=(10,3))\n",
    "ax=sns.barplot(x=buying_top10['country'],y=buying_top10[('productsBought', 'sum')])\n",
    "ax.set_title('Bought products by country')\n",
    "ax.set_xlabel('')\n",
    "ax.set_ylabel('')\n",
    "ax.xaxis.set_tick_params(rotation=45)\n",
    "\n",
    "plt.tight_layout()"
   ]
  },
  {
   "cell_type": "code",
   "execution_count": 27,
   "metadata": {},
   "outputs": [],
   "source": [
    "# Verification Buying\n",
    "#data.groupby('country')[['productsBought','socialProductsLiked','productsWished']].agg(['sum']).sort_values(by=('productsBought', 'sum'), ascending=False).T"
   ]
  },
  {
   "cell_type": "markdown",
   "metadata": {},
   "source": [
    "### 1.2. Data preprocessing, Feature Engineering"
   ]
  },
  {
   "cell_type": "code",
   "execution_count": 28,
   "metadata": {},
   "outputs": [
    {
     "name": "stdout",
     "output_type": "stream",
     "text": [
      "Other countries: 32\n",
      "Countries short list: ['France', 'UK', 'Other', 'Netherlands', 'Germany', 'Italy', 'Sweden', 'US', 'Spain', 'Denmark', 'Belgium']\n"
     ]
    }
   ],
   "source": [
    "# Define countries as 'Other', if % of users is less then 1%\n",
    "users_perc_lim = 1\n",
    "other_countries = countries[countries['users_%_total']<users_perc_lim].index.tolist()\n",
    "print(f'Other countries: {len(other_countries)}')\n",
    "#print(other_countries)\n",
    "data['country_short_list']=data['country'].apply(lambda x: 'Other' if x in other_countries else x)\n",
    "countries_list = data['country_short_list'].unique().tolist()\n",
    "print(f'Countries short list: {countries_list}')"
   ]
  },
  {
   "cell_type": "code",
   "execution_count": 29,
   "metadata": {},
   "outputs": [
    {
     "data": {
      "image/png": "[encoded data removed]",
      "text/plain": [
       "<Figure size 864x504 with 9 Axes>"
      ]
     },
     "metadata": {
      "needs_background": "light"
     },
     "output_type": "display_data"
    }
   ],
   "source": [
    "# Remove the 'identifierHash' column\n",
    "numeric_cols_plot.remove('seniority')\n",
    "\n",
    "# Plot a histogram of numeric columns\n",
    "data[numeric_cols_plot].hist(figsize=(12,7), bins =20)\n",
    "plt.show()"
   ]
  },
  {
   "cell_type": "code",
   "execution_count": 30,
   "metadata": {},
   "outputs": [
    {
     "data": {
      "text/html": [
       "<div>\n",
       "<style scoped>\n",
       "    .dataframe tbody tr th:only-of-type {\n",
       "        vertical-align: middle;\n",
       "    }\n",
       "\n",
       "    .dataframe tbody tr th {\n",
       "        vertical-align: top;\n",
       "    }\n",
       "\n",
       "    .dataframe thead th {\n",
       "        text-align: right;\n",
       "    }\n",
       "</style>\n",
       "<table border=\"1\" class=\"dataframe\">\n",
       "  <thead>\n",
       "    <tr style=\"text-align: right;\">\n",
       "      <th></th>\n",
       "      <th>country</th>\n",
       "      <th>language</th>\n",
       "      <th>socialNbFollowers</th>\n",
       "      <th>socialNbFollows</th>\n",
       "      <th>socialProductsLiked</th>\n",
       "      <th>productsListed</th>\n",
       "      <th>productsSold</th>\n",
       "      <th>productsPassRate</th>\n",
       "      <th>productsWished</th>\n",
       "      <th>productsBought</th>\n",
       "      <th>gender</th>\n",
       "      <th>hasAnyApp</th>\n",
       "      <th>hasAndroidApp</th>\n",
       "      <th>hasIosApp</th>\n",
       "      <th>hasProfilePicture</th>\n",
       "      <th>daysSinceLastLogin</th>\n",
       "      <th>seniority</th>\n",
       "      <th>country_short_list</th>\n",
       "    </tr>\n",
       "  </thead>\n",
       "  <tbody>\n",
       "    <tr>\n",
       "      <th>747</th>\n",
       "      <td>France</td>\n",
       "      <td>fr</td>\n",
       "      <td>353</td>\n",
       "      <td>8268</td>\n",
       "      <td>5595</td>\n",
       "      <td>5</td>\n",
       "      <td>15</td>\n",
       "      <td>66.0</td>\n",
       "      <td>875</td>\n",
       "      <td>0</td>\n",
       "      <td>F</td>\n",
       "      <td>True</td>\n",
       "      <td>False</td>\n",
       "      <td>True</td>\n",
       "      <td>False</td>\n",
       "      <td>31</td>\n",
       "      <td>3198</td>\n",
       "      <td>France</td>\n",
       "    </tr>\n",
       "    <tr>\n",
       "      <th>989</th>\n",
       "      <td>Italy</td>\n",
       "      <td>it</td>\n",
       "      <td>744</td>\n",
       "      <td>13764</td>\n",
       "      <td>51671</td>\n",
       "      <td>0</td>\n",
       "      <td>104</td>\n",
       "      <td>85.0</td>\n",
       "      <td>1842</td>\n",
       "      <td>0</td>\n",
       "      <td>F</td>\n",
       "      <td>True</td>\n",
       "      <td>False</td>\n",
       "      <td>True</td>\n",
       "      <td>False</td>\n",
       "      <td>14</td>\n",
       "      <td>3195</td>\n",
       "      <td>Italy</td>\n",
       "    </tr>\n",
       "  </tbody>\n",
       "</table>\n",
       "</div>"
      ],
      "text/plain": [
       "    country language  socialNbFollowers  socialNbFollows  socialProductsLiked  \\\n",
       "747  France       fr                353             8268                 5595   \n",
       "989   Italy       it                744            13764                51671   \n",
       "\n",
       "     productsListed  productsSold  productsPassRate  productsWished  \\\n",
       "747               5            15              66.0             875   \n",
       "989               0           104              85.0            1842   \n",
       "\n",
       "     productsBought gender  hasAnyApp  hasAndroidApp  hasIosApp  \\\n",
       "747               0      F       True          False       True   \n",
       "989               0      F       True          False       True   \n",
       "\n",
       "     hasProfilePicture  daysSinceLastLogin  seniority country_short_list  \n",
       "747              False                  31       3198             France  \n",
       "989              False                  14       3195              Italy  "
      ]
     },
     "execution_count": 30,
     "metadata": {},
     "output_type": "execute_result"
    }
   ],
   "source": [
    "filter_outliers = (data['socialNbFollows']>5000) | (data['socialNbFollowers']>500) | (data['socialProductsLiked']>10000)\n",
    "data[filter_outliers]"
   ]
  },
  {
   "cell_type": "code",
   "execution_count": 31,
   "metadata": {},
   "outputs": [
    {
     "name": "stdout",
     "output_type": "stream",
     "text": [
      "(2034, 18)\n"
     ]
    }
   ],
   "source": [
    "# Drop extreme outliers\n",
    "data.drop(data[filter_outliers].index, inplace=True)\n",
    "\n",
    "# Save the outliers to a csv file\n",
    "file = '4. Analysis/droped_outliers_classification_e-commerce_clusters.csv'\n",
    "data.to_csv(file, index = False)\n",
    "print(data.shape)"
   ]
  },
  {
   "cell_type": "code",
   "execution_count": 32,
   "metadata": {},
   "outputs": [],
   "source": [
    "data['social']= data['socialNbFollowers'] + data['socialNbFollows'] \n",
    "data['products'] = data['socialProductsLiked'] + data['productsWished']"
   ]
  },
  {
   "cell_type": "code",
   "execution_count": 33,
   "metadata": {},
   "outputs": [
    {
     "data": {
      "image/png": "[encoded data removed]",
      "text/plain": [
       "<Figure size 576x151.2 with 2 Axes>"
      ]
     },
     "metadata": {
      "needs_background": "light"
     },
     "output_type": "display_data"
    }
   ],
   "source": [
    "# Plot a histogram of numeric columns\n",
    "data[['social','products']].hist(figsize=(8,2.1), bins =20)\n",
    "plt.show()"
   ]
  },
  {
   "cell_type": "code",
   "execution_count": 34,
   "metadata": {},
   "outputs": [
    {
     "data": {
      "text/html": [
       "<div>\n",
       "<style scoped>\n",
       "    .dataframe tbody tr th:only-of-type {\n",
       "        vertical-align: middle;\n",
       "    }\n",
       "\n",
       "    .dataframe tbody tr th {\n",
       "        vertical-align: top;\n",
       "    }\n",
       "\n",
       "    .dataframe thead th {\n",
       "        text-align: right;\n",
       "    }\n",
       "</style>\n",
       "<table border=\"1\" class=\"dataframe\">\n",
       "  <thead>\n",
       "    <tr style=\"text-align: right;\">\n",
       "      <th></th>\n",
       "      <th>country</th>\n",
       "      <th>language</th>\n",
       "      <th>socialNbFollowers</th>\n",
       "      <th>socialNbFollows</th>\n",
       "      <th>socialProductsLiked</th>\n",
       "      <th>productsListed</th>\n",
       "      <th>productsSold</th>\n",
       "      <th>productsPassRate</th>\n",
       "      <th>productsWished</th>\n",
       "      <th>productsBought</th>\n",
       "      <th>gender</th>\n",
       "      <th>hasAnyApp</th>\n",
       "      <th>hasAndroidApp</th>\n",
       "      <th>hasIosApp</th>\n",
       "      <th>hasProfilePicture</th>\n",
       "      <th>daysSinceLastLogin</th>\n",
       "      <th>seniority</th>\n",
       "      <th>country_short_list</th>\n",
       "      <th>social</th>\n",
       "      <th>products</th>\n",
       "    </tr>\n",
       "  </thead>\n",
       "  <tbody>\n",
       "    <tr>\n",
       "      <th>0</th>\n",
       "      <td>France</td>\n",
       "      <td>fr</td>\n",
       "      <td>31</td>\n",
       "      <td>8</td>\n",
       "      <td>0</td>\n",
       "      <td>1</td>\n",
       "      <td>1</td>\n",
       "      <td>0.0</td>\n",
       "      <td>0</td>\n",
       "      <td>1</td>\n",
       "      <td>F</td>\n",
       "      <td>True</td>\n",
       "      <td>False</td>\n",
       "      <td>True</td>\n",
       "      <td>False</td>\n",
       "      <td>127</td>\n",
       "      <td>3205</td>\n",
       "      <td>France</td>\n",
       "      <td>39</td>\n",
       "      <td>0</td>\n",
       "    </tr>\n",
       "    <tr>\n",
       "      <th>1</th>\n",
       "      <td>France</td>\n",
       "      <td>fr</td>\n",
       "      <td>7</td>\n",
       "      <td>8</td>\n",
       "      <td>6</td>\n",
       "      <td>1</td>\n",
       "      <td>1</td>\n",
       "      <td>0.0</td>\n",
       "      <td>0</td>\n",
       "      <td>0</td>\n",
       "      <td>F</td>\n",
       "      <td>True</td>\n",
       "      <td>False</td>\n",
       "      <td>True</td>\n",
       "      <td>True</td>\n",
       "      <td>485</td>\n",
       "      <td>3205</td>\n",
       "      <td>France</td>\n",
       "      <td>15</td>\n",
       "      <td>6</td>\n",
       "    </tr>\n",
       "    <tr>\n",
       "      <th>2</th>\n",
       "      <td>UK</td>\n",
       "      <td>en</td>\n",
       "      <td>10</td>\n",
       "      <td>8</td>\n",
       "      <td>0</td>\n",
       "      <td>0</td>\n",
       "      <td>3</td>\n",
       "      <td>66.0</td>\n",
       "      <td>0</td>\n",
       "      <td>0</td>\n",
       "      <td>F</td>\n",
       "      <td>True</td>\n",
       "      <td>False</td>\n",
       "      <td>True</td>\n",
       "      <td>True</td>\n",
       "      <td>665</td>\n",
       "      <td>3205</td>\n",
       "      <td>UK</td>\n",
       "      <td>18</td>\n",
       "      <td>0</td>\n",
       "    </tr>\n",
       "    <tr>\n",
       "      <th>3</th>\n",
       "      <td>France</td>\n",
       "      <td>fr</td>\n",
       "      <td>3</td>\n",
       "      <td>8</td>\n",
       "      <td>0</td>\n",
       "      <td>0</td>\n",
       "      <td>1</td>\n",
       "      <td>0.0</td>\n",
       "      <td>0</td>\n",
       "      <td>0</td>\n",
       "      <td>M</td>\n",
       "      <td>False</td>\n",
       "      <td>False</td>\n",
       "      <td>False</td>\n",
       "      <td>True</td>\n",
       "      <td>405</td>\n",
       "      <td>3205</td>\n",
       "      <td>France</td>\n",
       "      <td>11</td>\n",
       "      <td>0</td>\n",
       "    </tr>\n",
       "    <tr>\n",
       "      <th>4</th>\n",
       "      <td>UK</td>\n",
       "      <td>en</td>\n",
       "      <td>16</td>\n",
       "      <td>0</td>\n",
       "      <td>6</td>\n",
       "      <td>0</td>\n",
       "      <td>1</td>\n",
       "      <td>0.0</td>\n",
       "      <td>303</td>\n",
       "      <td>32</td>\n",
       "      <td>M</td>\n",
       "      <td>True</td>\n",
       "      <td>True</td>\n",
       "      <td>False</td>\n",
       "      <td>False</td>\n",
       "      <td>20</td>\n",
       "      <td>3205</td>\n",
       "      <td>UK</td>\n",
       "      <td>16</td>\n",
       "      <td>309</td>\n",
       "    </tr>\n",
       "  </tbody>\n",
       "</table>\n",
       "</div>"
      ],
      "text/plain": [
       "  country language  socialNbFollowers  socialNbFollows  socialProductsLiked  \\\n",
       "0  France       fr                 31                8                    0   \n",
       "1  France       fr                  7                8                    6   \n",
       "2      UK       en                 10                8                    0   \n",
       "3  France       fr                  3                8                    0   \n",
       "4      UK       en                 16                0                    6   \n",
       "\n",
       "   productsListed  productsSold  productsPassRate  productsWished  \\\n",
       "0               1             1               0.0               0   \n",
       "1               1             1               0.0               0   \n",
       "2               0             3              66.0               0   \n",
       "3               0             1               0.0               0   \n",
       "4               0             1               0.0             303   \n",
       "\n",
       "   productsBought gender  hasAnyApp  hasAndroidApp  hasIosApp  \\\n",
       "0               1      F       True          False       True   \n",
       "1               0      F       True          False       True   \n",
       "2               0      F       True          False       True   \n",
       "3               0      M      False          False      False   \n",
       "4              32      M       True           True      False   \n",
       "\n",
       "   hasProfilePicture  daysSinceLastLogin  seniority country_short_list  \\\n",
       "0              False                 127       3205             France   \n",
       "1               True                 485       3205             France   \n",
       "2               True                 665       3205                 UK   \n",
       "3               True                 405       3205             France   \n",
       "4              False                  20       3205                 UK   \n",
       "\n",
       "   social  products  \n",
       "0      39         0  \n",
       "1      15         6  \n",
       "2      18         0  \n",
       "3      11         0  \n",
       "4      16       309  "
      ]
     },
     "execution_count": 34,
     "metadata": {},
     "output_type": "execute_result"
    }
   ],
   "source": [
    "# Save the initial data to use with results of clustering\n",
    "data_origin = data.copy()\n",
    "data_origin.head()"
   ]
  },
  {
   "cell_type": "code",
   "execution_count": 35,
   "metadata": {},
   "outputs": [],
   "source": [
    "# Transform predictor variables using Yeo-Johnson transformation\n",
    "columns = ['socialNbFollowers', 'socialNbFollows', 'socialProductsLiked', 'productsListed', \n",
    "           'productsSold', 'productsWished', 'productsBought', 'daysSinceLastLogin','social', 'products', \n",
    "           'productsPassRate', 'seniority']\n",
    "\n",
    "qt = QuantileTransformer(n_quantiles=500, output_distribution='normal')\n",
    "data[columns] = qt.fit_transform(data[columns])"
   ]
  },
  {
   "cell_type": "code",
   "execution_count": 36,
   "metadata": {},
   "outputs": [
    {
     "name": "stdout",
     "output_type": "stream",
     "text": [
      "Numeric columns: ['socialNbFollowers', 'socialNbFollows', 'socialProductsLiked', 'productsListed', 'productsSold', 'productsPassRate', 'productsWished', 'productsBought', 'daysSinceLastLogin', 'seniority', 'social', 'products']\n"
     ]
    },
    {
     "data": {
      "image/png": "[encoded data removed]",
      "text/plain": [
       "<Figure size 864x720 with 12 Axes>"
      ]
     },
     "metadata": {
      "needs_background": "light"
     },
     "output_type": "display_data"
    }
   ],
   "source": [
    "numeric_cols=data.select_dtypes(include=[np.number]).columns.to_list()\n",
    "print(f'Numeric columns: {numeric_cols}')\n",
    "# Plot a histogram of numeric columns\n",
    "data[columns].hist(figsize=(12,10), bins =30)\n",
    "plt.show()"
   ]
  },
  {
   "cell_type": "code",
   "execution_count": 37,
   "metadata": {},
   "outputs": [
    {
     "data": {
      "text/plain": [
       "0"
      ]
     },
     "execution_count": 37,
     "metadata": {},
     "output_type": "execute_result"
    }
   ],
   "source": [
    "# Change the boolean column type to integer\n",
    "data[booleans_cols]=data[booleans_cols].astype(int)\n",
    "\n",
    "# Duplicate columns\n",
    "data['language_c']=data['language']\n",
    "# Convert categorical variable into dummy/indicator variables\n",
    "cat_features =['language', 'gender', 'country_short_list']\n",
    "data = pd.get_dummies(data, columns=cat_features, drop_first=True)\n",
    "\n",
    "# Rename columns\n",
    "data.rename(columns={'language_c': 'language'}, inplace=True)\n",
    "\n",
    "# Check that 'hasAnyApp' is 'hasAndroidApp' or 'hasIosApp'\n",
    "(data['hasAndroidApp']+data['hasIosApp']-data['hasAnyApp']).isnull().sum()"
   ]
  },
  {
   "cell_type": "code",
   "execution_count": 38,
   "metadata": {},
   "outputs": [
    {
     "data": {
      "text/plain": [
       "(2034, 33)"
      ]
     },
     "execution_count": 38,
     "metadata": {},
     "output_type": "execute_result"
    }
   ],
   "source": [
    "# Save the preprocessed data to a csv file\n",
    "file = '2. Prepared Data/classification_e-commerce_preprocessed_data.csv'\n",
    "data.to_csv(file, index = False)\n",
    "data.shape "
   ]
  },
  {
   "cell_type": "code",
   "execution_count": 39,
   "metadata": {},
   "outputs": [],
   "source": [
    "def get_model_parameters(model_name, results_list):\n",
    "    \"\"\" Returns a list of patameters that is relevant to the highest silhoette score. \"\"\"\n",
    "    # Initiate a dictionary to save a silhoette score and index from the list of parameters\n",
    "    coeff = {}\n",
    "    # Loop through the list of parameters\n",
    "    for index,result in enumerate(results_list):\n",
    "        # Save index and silhoette coefficient to the list\n",
    "        coeff.update({result[0] : index})\n",
    "    \n",
    "    # Find out the highest silhoette coefficient\n",
    "    max_coeff = max(coeff.keys())\n",
    "    \n",
    "    # Find out the List of patameters that is relevant to the best score\n",
    "    results = results_list[coeff.get(max_coeff)]\n",
    "            \n",
    "    # Return the list of patameters that is relevant to the highest silhoette score\n",
    "    return results\n",
    "\n",
    "def print_model_parameters(model_name, results_list):\n",
    "    \"\"\" Prints model's name and parameters in form: '# [Silhoette Coefficient, eps, min_smpl, n_clusters]'. \"\"\"\n",
    "    print(model_name)\n",
    "    print(f'# [Silhoette Coefficient, eps, min_smpl, n_clusters]')\n",
    "    \n",
    "    for index,result in enumerate(results_list):\n",
    "        print(index, result)\n",
    "    \n",
    "def print_model_n_clusters_parameter(model_name, results_list):\n",
    "    \"\"\" Prints model's name and a n_clusters parameter in form: '# [Silhoette Coefficient, n_clusters]'. \"\"\"\n",
    "    print(model_name)\n",
    "    print(f'# [Silhoette Coefficient, n_clusters]')\n",
    "    \n",
    "    for index,result in enumerate(results_list):\n",
    "        print(index, result)"
   ]
  },
  {
   "cell_type": "markdown",
   "metadata": {},
   "source": [
    "## 2. Clustering\n",
    "\n",
    "### 2.1. Features "
   ]
  },
  {
   "cell_type": "code",
   "execution_count": 40,
   "metadata": {},
   "outputs": [
    {
     "data": {
      "text/plain": [
       "Index(['country', 'socialNbFollowers', 'socialNbFollows',\n",
       "       'socialProductsLiked', 'productsListed', 'productsSold',\n",
       "       'productsPassRate', 'productsWished', 'productsBought', 'hasAnyApp',\n",
       "       'hasAndroidApp', 'hasIosApp', 'hasProfilePicture', 'daysSinceLastLogin',\n",
       "       'seniority', 'social', 'products', 'language', 'language_en',\n",
       "       'language_es', 'language_fr', 'language_it', 'gender_M',\n",
       "       'country_short_list_Denmark', 'country_short_list_France',\n",
       "       'country_short_list_Germany', 'country_short_list_Italy',\n",
       "       'country_short_list_Netherlands', 'country_short_list_Other',\n",
       "       'country_short_list_Spain', 'country_short_list_Sweden',\n",
       "       'country_short_list_UK', 'country_short_list_US'],\n",
       "      dtype='object')"
      ]
     },
     "execution_count": 40,
     "metadata": {},
     "output_type": "execute_result"
    }
   ],
   "source": [
    "data.columns"
   ]
  },
  {
   "cell_type": "code",
   "execution_count": 41,
   "metadata": {},
   "outputs": [
    {
     "name": "stdout",
     "output_type": "stream",
     "text": [
      "Features: \n",
      " ['socialNbFollowers', 'socialNbFollows', 'socialProductsLiked', 'productsListed', 'productsSold', 'productsPassRate', 'productsWished', 'productsBought', 'social', 'products']\n"
     ]
    }
   ],
   "source": [
    "# Select features\n",
    "features = ['socialNbFollowers', 'socialNbFollows', 'socialProductsLiked', 'productsListed', 'productsSold',\n",
    "       'productsPassRate', 'productsWished', 'productsBought', 'social', 'products'        \n",
    "        #'daysSinceLastLogin',\n",
    "        ]\n",
    "print(f'Features: \\n {features}')"
   ]
  },
  {
   "cell_type": "code",
   "execution_count": 42,
   "metadata": {},
   "outputs": [
    {
     "data": {
      "image/png": "[encoded data removed]",
      "text/plain": [
       "<Figure size 720x576 with 1 Axes>"
      ]
     },
     "metadata": {
      "needs_background": "light"
     },
     "output_type": "display_data"
    }
   ],
   "source": [
    "# Set up the data\n",
    "df_scl=data[features].copy()\n",
    "\n",
    "# Scale the data \n",
    "df_scl[features] = StandardScaler().fit_transform(df_scl)\n",
    "\n",
    "# Principal component analysis for visualization\n",
    "pca = PCA(n_components=2, whiten=True)\n",
    "df_pca = pca.fit_transform(df_scl[features])\n",
    "\n",
    "df_scl['x']=df_pca[:,0]\n",
    "df_scl['y']=df_pca[:,1]\n",
    "\n",
    "#plt.figure(figsize=(8,6))\n",
    "plt.figure(figsize=(10,8))\n",
    "plt.scatter(df_pca[:,0],df_pca[:,1])\n",
    "plt.show()  "
   ]
  },
  {
   "cell_type": "code",
   "execution_count": 43,
   "metadata": {},
   "outputs": [
    {
     "data": {
      "text/html": [
       "<div>\n",
       "<style scoped>\n",
       "    .dataframe tbody tr th:only-of-type {\n",
       "        vertical-align: middle;\n",
       "    }\n",
       "\n",
       "    .dataframe tbody tr th {\n",
       "        vertical-align: top;\n",
       "    }\n",
       "\n",
       "    .dataframe thead th {\n",
       "        text-align: right;\n",
       "    }\n",
       "</style>\n",
       "<table border=\"1\" class=\"dataframe\">\n",
       "  <thead>\n",
       "    <tr style=\"text-align: right;\">\n",
       "      <th></th>\n",
       "      <th>socialNbFollowers</th>\n",
       "      <th>socialNbFollows</th>\n",
       "      <th>socialProductsLiked</th>\n",
       "      <th>productsListed</th>\n",
       "      <th>productsSold</th>\n",
       "      <th>productsPassRate</th>\n",
       "      <th>productsWished</th>\n",
       "      <th>productsBought</th>\n",
       "      <th>social</th>\n",
       "      <th>products</th>\n",
       "    </tr>\n",
       "  </thead>\n",
       "  <tbody>\n",
       "    <tr>\n",
       "      <th>count</th>\n",
       "      <td>2.034000e+03</td>\n",
       "      <td>2.034000e+03</td>\n",
       "      <td>2.034000e+03</td>\n",
       "      <td>2.034000e+03</td>\n",
       "      <td>2.034000e+03</td>\n",
       "      <td>2.034000e+03</td>\n",
       "      <td>2.034000e+03</td>\n",
       "      <td>2.034000e+03</td>\n",
       "      <td>2.034000e+03</td>\n",
       "      <td>2.034000e+03</td>\n",
       "    </tr>\n",
       "    <tr>\n",
       "      <th>mean</th>\n",
       "      <td>-6.899321e-17</td>\n",
       "      <td>-1.323098e-16</td>\n",
       "      <td>8.351235e-17</td>\n",
       "      <td>-2.218263e-16</td>\n",
       "      <td>3.613410e-17</td>\n",
       "      <td>-4.803325e-17</td>\n",
       "      <td>1.330739e-16</td>\n",
       "      <td>-1.257598e-16</td>\n",
       "      <td>6.069656e-17</td>\n",
       "      <td>3.720393e-16</td>\n",
       "    </tr>\n",
       "    <tr>\n",
       "      <th>std</th>\n",
       "      <td>1.000246e+00</td>\n",
       "      <td>1.000246e+00</td>\n",
       "      <td>1.000246e+00</td>\n",
       "      <td>1.000246e+00</td>\n",
       "      <td>1.000246e+00</td>\n",
       "      <td>1.000246e+00</td>\n",
       "      <td>1.000246e+00</td>\n",
       "      <td>1.000246e+00</td>\n",
       "      <td>1.000246e+00</td>\n",
       "      <td>1.000246e+00</td>\n",
       "    </tr>\n",
       "    <tr>\n",
       "      <th>min</th>\n",
       "      <td>-2.324333e+00</td>\n",
       "      <td>-5.861384e+00</td>\n",
       "      <td>-1.228283e+00</td>\n",
       "      <td>-1.011926e+00</td>\n",
       "      <td>-1.089891e+00</td>\n",
       "      <td>-8.505132e-01</td>\n",
       "      <td>-7.467292e-01</td>\n",
       "      <td>-6.151152e-01</td>\n",
       "      <td>-5.291790e+00</td>\n",
       "      <td>-1.310222e+00</td>\n",
       "    </tr>\n",
       "    <tr>\n",
       "      <th>25%</th>\n",
       "      <td>-1.403259e-01</td>\n",
       "      <td>-4.076469e-01</td>\n",
       "      <td>-1.228283e+00</td>\n",
       "      <td>-1.011926e+00</td>\n",
       "      <td>-1.089891e+00</td>\n",
       "      <td>-8.505132e-01</td>\n",
       "      <td>-7.467292e-01</td>\n",
       "      <td>-6.151152e-01</td>\n",
       "      <td>-8.453499e-01</td>\n",
       "      <td>-1.310222e+00</td>\n",
       "    </tr>\n",
       "    <tr>\n",
       "      <th>50%</th>\n",
       "      <td>2.076751e-01</td>\n",
       "      <td>-4.076469e-01</td>\n",
       "      <td>5.266292e-01</td>\n",
       "      <td>7.643891e-01</td>\n",
       "      <td>6.783199e-01</td>\n",
       "      <td>-8.505132e-01</td>\n",
       "      <td>-7.467292e-01</td>\n",
       "      <td>-6.151152e-01</td>\n",
       "      <td>5.399891e-02</td>\n",
       "      <td>5.225680e-01</td>\n",
       "    </tr>\n",
       "    <tr>\n",
       "      <th>75%</th>\n",
       "      <td>5.621713e-01</td>\n",
       "      <td>8.367742e-01</td>\n",
       "      <td>7.986769e-01</td>\n",
       "      <td>9.352847e-01</td>\n",
       "      <td>8.915892e-01</td>\n",
       "      <td>5.341639e-01</td>\n",
       "      <td>1.195895e+00</td>\n",
       "      <td>1.447116e+00</td>\n",
       "      <td>6.389735e-01</td>\n",
       "      <td>7.635682e-01</td>\n",
       "    </tr>\n",
       "    <tr>\n",
       "      <th>max</th>\n",
       "      <td>2.811698e+00</td>\n",
       "      <td>5.772377e+00</td>\n",
       "      <td>2.366857e+00</td>\n",
       "      <td>2.428811e+00</td>\n",
       "      <td>2.394302e+00</td>\n",
       "      <td>1.597543e+00</td>\n",
       "      <td>2.700666e+00</td>\n",
       "      <td>2.995085e+00</td>\n",
       "      <td>5.272126e+00</td>\n",
       "      <td>2.366014e+00</td>\n",
       "    </tr>\n",
       "  </tbody>\n",
       "</table>\n",
       "</div>"
      ],
      "text/plain": [
       "       socialNbFollowers  socialNbFollows  socialProductsLiked  \\\n",
       "count       2.034000e+03     2.034000e+03         2.034000e+03   \n",
       "mean       -6.899321e-17    -1.323098e-16         8.351235e-17   \n",
       "std         1.000246e+00     1.000246e+00         1.000246e+00   \n",
       "min        -2.324333e+00    -5.861384e+00        -1.228283e+00   \n",
       "25%        -1.403259e-01    -4.076469e-01        -1.228283e+00   \n",
       "50%         2.076751e-01    -4.076469e-01         5.266292e-01   \n",
       "75%         5.621713e-01     8.367742e-01         7.986769e-01   \n",
       "max         2.811698e+00     5.772377e+00         2.366857e+00   \n",
       "\n",
       "       productsListed  productsSold  productsPassRate  productsWished  \\\n",
       "count    2.034000e+03  2.034000e+03      2.034000e+03    2.034000e+03   \n",
       "mean    -2.218263e-16  3.613410e-17     -4.803325e-17    1.330739e-16   \n",
       "std      1.000246e+00  1.000246e+00      1.000246e+00    1.000246e+00   \n",
       "min     -1.011926e+00 -1.089891e+00     -8.505132e-01   -7.467292e-01   \n",
       "25%     -1.011926e+00 -1.089891e+00     -8.505132e-01   -7.467292e-01   \n",
       "50%      7.643891e-01  6.783199e-01     -8.505132e-01   -7.467292e-01   \n",
       "75%      9.352847e-01  8.915892e-01      5.341639e-01    1.195895e+00   \n",
       "max      2.428811e+00  2.394302e+00      1.597543e+00    2.700666e+00   \n",
       "\n",
       "       productsBought        social      products  \n",
       "count    2.034000e+03  2.034000e+03  2.034000e+03  \n",
       "mean    -1.257598e-16  6.069656e-17  3.720393e-16  \n",
       "std      1.000246e+00  1.000246e+00  1.000246e+00  \n",
       "min     -6.151152e-01 -5.291790e+00 -1.310222e+00  \n",
       "25%     -6.151152e-01 -8.453499e-01 -1.310222e+00  \n",
       "50%     -6.151152e-01  5.399891e-02  5.225680e-01  \n",
       "75%      1.447116e+00  6.389735e-01  7.635682e-01  \n",
       "max      2.995085e+00  5.272126e+00  2.366014e+00  "
      ]
     },
     "execution_count": 43,
     "metadata": {},
     "output_type": "execute_result"
    }
   ],
   "source": [
    "df_scl[features].describe()"
   ]
  },
  {
   "cell_type": "markdown",
   "metadata": {},
   "source": [
    "### 2.2. Base Model"
   ]
  },
  {
   "cell_type": "code",
   "execution_count": 44,
   "metadata": {},
   "outputs": [
    {
     "data": {
      "image/png": "[encoded data removed]",
      "text/plain": [
       "<Figure size 576x432 with 1 Axes>"
      ]
     },
     "metadata": {
      "needs_background": "light"
     },
     "output_type": "display_data"
    },
    {
     "name": "stdout",
     "output_type": "stream",
     "text": [
      "KMeans Clustering:\n",
      "n_clusters=3, Silhouette Coefficient: 0.25583972360316554\n",
      "Clusters: Counter({1: 730, 2: 720, 0: 584})\n"
     ]
    }
   ],
   "source": [
    "# Set up the data\n",
    "df = data[features].copy()\n",
    "\n",
    "# Scale the data \n",
    "#df_scl = MinMaxScaler().fit_transform(df)\n",
    "df_scl = StandardScaler().fit_transform(df)\n",
    "\n",
    "\n",
    "# Principal component analysis for visualization\n",
    "pca = PCA(n_components=2, whiten=True)\n",
    "df_pca = pca.fit_transform(df_scl)\n",
    "\n",
    "# ---------------------------------- KMeans Clustering ------------------------------------------\n",
    "# A number of clusters\n",
    "n_clusters=3\n",
    "# KMeans model\n",
    "km = KMeans(n_clusters=n_clusters, max_iter=500, random_state=None).fit(df_scl)\n",
    "labels = km.labels_\n",
    "\n",
    "# Plot the result\n",
    "plt.figure(figsize=(8,6))\n",
    "plt.scatter(df_pca[:,0],df_pca[:,1], c=labels, edgecolors='k', s=84)\n",
    "\n",
    "plt.title(f'KMeans Clustering, n_clusters={n_clusters}')\n",
    "plt.show()\n",
    "\n",
    "print('KMeans Clustering:')\n",
    "# Silhouette Score\n",
    "sil_coeff = silhouette_score(df_scl, labels, metric='euclidean')\n",
    "print(f'n_clusters={n_clusters}, Silhouette Coefficient: {sil_coeff}')\n",
    "# Count the occurrence of samples in an clusters\n",
    "clusters = collections.Counter(labels)\n",
    "print(f'Clusters: {clusters}')"
   ]
  },
  {
   "cell_type": "code",
   "execution_count": 45,
   "metadata": {},
   "outputs": [
    {
     "name": "stdout",
     "output_type": "stream",
     "text": [
      "Base Model:\n",
      "KMeans(max_iter=500, n_clusters=3)\n"
     ]
    }
   ],
   "source": [
    "print('Base Model:')\n",
    "print(km)"
   ]
  },
  {
   "cell_type": "markdown",
   "metadata": {},
   "source": [
    "### 2.3. Model Selection"
   ]
  },
  {
   "cell_type": "code",
   "execution_count": 46,
   "metadata": {},
   "outputs": [],
   "source": [
    "# Set up the data\n",
    "df = data[features].copy()\n",
    "\n",
    "# Scale the data \n",
    "df_scl = StandardScaler().fit_transform(df)\n",
    "\n",
    "# Scaled data\n",
    "X = df_scl\n",
    "# ---------------------------------- KMeans Clustering ------------------------------------------\n",
    "model_name = 'KMeans'\n",
    "\n",
    "# Initiate a list of results\n",
    "results_list = []\n",
    "\n",
    "# Loop through the range of a number of clusters\n",
    "clusters = range(2, 11)\n",
    "for index, n_cluster in enumerate(clusters):\n",
    "    # Fit a model\n",
    "    kmeans = KMeans(n_clusters=n_cluster, max_iter=500).fit(X)\n",
    "    labels = kmeans.labels_\n",
    "    # Get a silhouette score\n",
    "    sil_coeff = silhouette_score(X, labels, metric='euclidean')\n",
    "    # Save a silhouette score and a number of clusters into a list\n",
    "    results_list.append([sil_coeff,n_cluster])\n",
    "\n",
    "kmean_results_list = results_list    \n",
    "\n",
    "# ---------------------------------- End KMeans Clustering ------------------------------------------"
   ]
  },
  {
   "cell_type": "code",
   "execution_count": null,
   "metadata": {},
   "outputs": [],
   "source": [
    "# Set up the data\n",
    "df = data[features].copy()\n",
    "\n",
    "# Scale the data \n",
    "df_scl = StandardScaler().fit_transform(df)\n",
    "\n",
    "# Scaled data\n",
    "X = df_scl\n",
    "# ---------------------------------- Spectral Clustering ------------------------------------------\n",
    "model_name = 'SpectralClustering'\n",
    "\n",
    "# Initiate a list of results\n",
    "results_list = []\n",
    "\n",
    "# Loop through the range of a number of clusters\n",
    "clusters = range(2, 11)\n",
    "for index, n_cluster in enumerate(clusters):\n",
    "    # Fit a model\n",
    "    spectral = SpectralClustering(n_clusters=n_cluster, assign_labels='discretize', random_state=0).fit(X)\n",
    "    labels = spectral.labels_\n",
    "    # Get a silhouette score\n",
    "    sil_coeff = silhouette_score(X, labels, metric='euclidean')\n",
    "    # Save a silhouette score and a number of clusters into a list\n",
    "    results_list.append([sil_coeff,n_cluster])\n",
    "\n",
    "spectral_results_list = results_list    \n",
    "\n",
    "# ---------------------------------- End Spectral Clustering ------------------------------------------"
   ]
  },
  {
   "cell_type": "code",
   "execution_count": null,
   "metadata": {},
   "outputs": [],
   "source": [
    "# Set up the data\n",
    "df = data[features].copy()\n",
    "\n",
    "# Scale the data \n",
    "df_scl = StandardScaler().fit_transform(df)\n",
    "\n",
    "# Scaled data\n",
    "X = df_scl\n",
    "# ---------------------------------- Agglomerative Clustering ------------------------------------------\n",
    "model_name = 'Agglomerative Clustering'\n",
    "\n",
    "# Initiate a list of results\n",
    "results_list = []\n",
    "\n",
    "# Loop through the range of a number of clusters\n",
    "clusters = range(2, 11)\n",
    "for index, n_cluster in enumerate(clusters):\n",
    "    # Fit a model\n",
    "    aggl = AgglomerativeClustering(n_clusters=n_cluster, affinity='euclidean', linkage='ward').fit(X)\n",
    "    #aggl = AgglomerativeClustering(n_clusters=n_cluster, affinity='manhattan', linkage='average').fit(X)\n",
    "    #aggl = AgglomerativeClustering(n_clusters=n_cluster, affinity='l2', linkage='average').fit(X)\n",
    "    labels = aggl.labels_\n",
    "    n_cluster = aggl.n_clusters_\n",
    "    # Get a silhouette score\n",
    "    sil_coeff = silhouette_score(X, labels, metric='euclidean')\n",
    "    # Save a silhouette score and a number of clusters into a list\n",
    "    results_list.append([sil_coeff,n_cluster])\n",
    "\n",
    "aggl_results_list = results_list    \n",
    "\n",
    "# ---------------------------------- End Agglomerative Clustering ------------------------------------------ "
   ]
  },
  {
   "cell_type": "code",
   "execution_count": null,
   "metadata": {},
   "outputs": [],
   "source": [
    "# ----------------------------- Results of model evaluation ------------------------------------------------\n",
    "\n",
    "#---------------------------------- Kmeans -----------------------------------------------------------------\n",
    "model_name = 'KMeans'\n",
    "# Print the list of patameters\n",
    "print_model_n_clusters_parameter(model_name, kmean_results_list)\n",
    "\n",
    "# Get the best model parameters\n",
    "param_kmeans = get_model_parameters(model_name, kmean_results_list)\n",
    "print(f'The best Kmeans parameters: {param_kmeans}')\n",
    "\n",
    "#---------------------------------- SpectralClustering -----------------------------------------------------------------\n",
    "model_name = 'SpectralClustering'\n",
    "# Print the list of patameters\n",
    "print_model_n_clusters_parameter(model_name, spectral_results_list)\n",
    "\n",
    "# Get the best model parameters\n",
    "param_spectral = get_model_parameters(model_name, spectral_results_list)\n",
    "print(f'The best Spectral Clustering parameters: {param_spectral}')\n",
    "\n",
    "# ---------------------------------- Agglomerative Clustering ---------------------------------------------\n",
    "model_name = 'Agglomerative Clustering'\n",
    "print_model_n_clusters_parameter(model_name, aggl_results_list)\n",
    "\n",
    "# Get the best model parameters\n",
    "param_aggl = get_model_parameters(model_name, aggl_results_list)\n",
    "print(f'The best Agglomerative Clustering parameters: {param_aggl}')\n"
   ]
  },
  {
   "cell_type": "code",
   "execution_count": null,
   "metadata": {},
   "outputs": [],
   "source": [
    "# Select the best parameter\n",
    "# Select the best parameter when n_clusters > 2\n",
    "param_kmeans_n_clusters = 4\n",
    "param_spectral_n_clusters = 4\n",
    "param_param_aggl_n_clusters = 4\n",
    "\n",
    "print(f'Selected parameters:')\n",
    "print(f'Kmeans parameters: n_clusters = {param_kmeans_n_clusters}')\n",
    "print(f'Spectral Clustering parameters: n_clusters = {param_spectral_n_clusters}')\n",
    "print(f'Agglomerative Clustering parameters: n_clusters = {param_param_aggl_n_clusters}')"
   ]
  },
  {
   "cell_type": "code",
   "execution_count": null,
   "metadata": {},
   "outputs": [],
   "source": [
    "# Set up the data\n",
    "df = data[features].copy()\n",
    "\n",
    "# Scale the data \n",
    "df_scl = StandardScaler().fit_transform(df)\n",
    "\n",
    "# Principal component analysis for visualization\n",
    "pca = PCA(n_components=2, whiten=True)\n",
    "df_pca = pca.fit_transform(df_scl)\n",
    "\n",
    "df['x'] = df_pca[:,0]\n",
    "df['y'] = df_pca[:,1]\n",
    "\n",
    "# Scaled data\n",
    "X = df_scl\n",
    "#---------------------------------- Kmeans -------------------------------------------------\n",
    "kmeans = KMeans(n_clusters=param_kmeans_n_clusters, max_iter=500).fit(X)\n",
    "labels = kmeans.labels_\n",
    "n_clusters = len(set(labels))\n",
    "df['kmeans']=labels\n",
    "\n",
    "# Plot the result\n",
    "plt.figure(figsize=(8,6))\n",
    "plt.scatter(df_pca[:,0],df_pca[:,1], c=labels, edgecolors='k', s=84)\n",
    "\n",
    "plt.title(f'KMeans Clustering, n_clusters={n_clusters}')\n",
    "plt.show()\n",
    "\n",
    "print(kmeans)\n",
    "# Silhouette Score\n",
    "sil_coeff = silhouette_score(X, labels, metric='euclidean')\n",
    "print(f'n_clusters={n_clusters}, Silhouette Coefficient: {sil_coeff}')\n",
    "# Count the occurrence of samples in clusters\n",
    "clusters = collections.Counter(labels)\n",
    "print(f'Clusters: {clusters}')\n",
    "\n",
    "#---------------------------------- Spectral Clustering -------------------------------------------------\n",
    "\n",
    "spectral = SpectralClustering(n_clusters=param_spectral_n_clusters, assign_labels='discretize', random_state=0).fit(X)\n",
    "labels = spectral.labels_\n",
    "n_clusters = len(set(labels))\n",
    "df['spectral']=labels\n",
    "\n",
    "# Plot the result\n",
    "plt.figure(figsize=(8,6))\n",
    "plt.scatter(df_pca[:,0],df_pca[:,1], c=labels, edgecolors='k', s=84)\n",
    "\n",
    "plt.title(f'Spectral Clustering, n_clusters={n_clusters}')\n",
    "plt.show()\n",
    "\n",
    "print(spectral)\n",
    "# Silhouette Score\n",
    "sil_coeff = silhouette_score(X, labels, metric='euclidean')\n",
    "print(f'n_clusters={n_clusters}, Silhouette Coefficient: {sil_coeff}')\n",
    "# Count the occurrence of samples in clusters\n",
    "clusters = collections.Counter(labels)\n",
    "print(f'Clusters: {clusters}')\n",
    "\n",
    "\n",
    "# ---------------------------------- Agglomerative Clustering -------------------------------------\n",
    "aggl = AgglomerativeClustering(n_clusters=param_param_aggl_n_clusters, affinity='euclidean', linkage='ward').fit(X)\n",
    "\n",
    "labels = aggl.labels_\n",
    "n_clusters = len(set(labels))\n",
    "df['aggl']=labels\n",
    "\n",
    "# Plot the result\n",
    "plt.figure(figsize=(8,6))\n",
    "plt.scatter(df_pca[:,0],df_pca[:,1], c=labels, edgecolors='k', s=84)\n",
    "\n",
    "plt.title(f'Agglomerative Clustering, n_clusters={n_clusters}')\n",
    "plt.show()\n",
    "\n",
    "print(aggl)\n",
    "# Silhouette Score\n",
    "sil_coeff = silhouette_score(X, labels, metric='euclidean')\n",
    "print(f'n_clusters={n_clusters}, Silhouette Coefficient: {sil_coeff}')\n",
    "# Count the occurrence of samples in clusters\n",
    "clusters = collections.Counter(labels)\n",
    "print(f'Clusters: {clusters}')"
   ]
  },
  {
   "cell_type": "code",
   "execution_count": null,
   "metadata": {},
   "outputs": [],
   "source": [
    "data_origin.columns"
   ]
  },
  {
   "cell_type": "code",
   "execution_count": null,
   "metadata": {},
   "outputs": [],
   "source": [
    "# Save the results of clustering to a csv file\n",
    "print(f'data_origin: {data_origin.shape}')\n",
    "print(f'df: {df.shape}')\n",
    "\n",
    "# Add cluster labels and PCA components to the original DataFrame\n",
    "result = data_origin[features+ ['country', 'daysSinceLastLogin']].join(df[['x', 'y', 'kmeans', 'spectral', 'aggl']])\n",
    "print(f'result: {result.shape}')\n"
   ]
  },
  {
   "cell_type": "markdown",
   "metadata": {},
   "source": [
    "### 2.4. The Final Model"
   ]
  },
  {
   "cell_type": "code",
   "execution_count": null,
   "metadata": {},
   "outputs": [],
   "source": [
    "# Set up the data\n",
    "df_f = data[features].copy()\n",
    "\n",
    "# Scale the data \n",
    "df_scl = StandardScaler().fit_transform(df_f)\n",
    "\n",
    "# Principal component analysis for visualization\n",
    "pca = PCA(n_components=2, whiten=True)\n",
    "df_pca = pca.fit_transform(df_scl)\n",
    "\n",
    "df['x'] = df_pca[:,0]\n",
    "df['y'] = df_pca[:,1]\n",
    "\n",
    "# Scaled data\n",
    "X = df_scl\n",
    "\n",
    "#---------------------------------- Kmeans -------------------------------------------------\n",
    "aggl = AgglomerativeClustering(n_clusters=param_param_aggl_n_clusters, affinity='euclidean', linkage='ward').fit(X)\n",
    "labels = aggl.labels_\n",
    "n_clusters = len(set(labels))\n",
    "df['aggl']=labels\n",
    "\n",
    "print('Final Model:')\n",
    "print(aggl)\n",
    "\n",
    "# Plot the result\n",
    "plt.figure(figsize=(8,6))\n",
    "plt.scatter(df_pca[:,0],df_pca[:,1], c=labels, edgecolors='k', s=84)\n",
    "\n",
    "plt.title(f'Agglomerative Clustering, n_clusters={n_clusters}')\n",
    "plt.show()\n",
    "\n",
    "# Silhouette Score\n",
    "sil_coeff = silhouette_score(X, labels, metric='euclidean')\n",
    "print(f'n_clusters={n_clusters}, Silhouette Coefficient: {sil_coeff}')\n",
    "# Count the occurrence of samples in an clusters\n",
    "clusters = collections.Counter(labels)\n",
    "print(f'Clusters: {clusters}')"
   ]
  },
  {
   "cell_type": "markdown",
   "metadata": {},
   "source": [
    "## 3. Profile of clusters"
   ]
  },
  {
   "cell_type": "code",
   "execution_count": null,
   "metadata": {},
   "outputs": [],
   "source": [
    "# The final model\n",
    "model_clusters = 'aggl'\n",
    "\n",
    "# Clusters labels from the final model\n",
    "result[model_clusters]=labels\n",
    "result.head()"
   ]
  },
  {
   "cell_type": "code",
   "execution_count": null,
   "metadata": {},
   "outputs": [],
   "source": [
    "# Count a number of samples in clusters\n",
    "result[model_clusters].value_counts()"
   ]
  },
  {
   "cell_type": "code",
   "execution_count": null,
   "metadata": {},
   "outputs": [],
   "source": [
    "# Save the clustered data to a csv file\n",
    "file = '5. Insights/classification_e-commerce_clusters.csv'\n",
    "result.to_csv(file, index = False)\n",
    "\n",
    "result.head()"
   ]
  },
  {
   "cell_type": "code",
   "execution_count": null,
   "metadata": {},
   "outputs": [],
   "source": [
    "print('\\t \\t CLUSTERS (MIN)')\n",
    "clusters_MIN = result[features + [model_clusters]].groupby(model_clusters).min()\n",
    "clusters_MIN"
   ]
  },
  {
   "cell_type": "code",
   "execution_count": null,
   "metadata": {},
   "outputs": [],
   "source": [
    "print('\\t \\t CLUSTERS (MAX)')\n",
    "clusters_MAX = result[features + [model_clusters]].groupby(model_clusters).max()\n",
    "clusters_MAX"
   ]
  },
  {
   "cell_type": "code",
   "execution_count": null,
   "metadata": {},
   "outputs": [],
   "source": [
    "result[result[model_clusters]==0][features].describe() "
   ]
  },
  {
   "cell_type": "code",
   "execution_count": null,
   "metadata": {},
   "outputs": [],
   "source": [
    "result[result[model_clusters]==1][features].describe()"
   ]
  },
  {
   "cell_type": "code",
   "execution_count": null,
   "metadata": {},
   "outputs": [],
   "source": [
    "result[result[model_clusters]==2][features].describe()"
   ]
  },
  {
   "cell_type": "code",
   "execution_count": null,
   "metadata": {},
   "outputs": [],
   "source": [
    "result[result[model_clusters]==3][features].describe()"
   ]
  },
  {
   "cell_type": "code",
   "execution_count": null,
   "metadata": {},
   "outputs": [],
   "source": []
  }
 ],
 "metadata": {
  "kernelspec": {
   "display_name": "Python 3",
   "language": "python",
   "name": "python3"
  },
  "language_info": {
   "codemirror_mode": {
    "name": "ipython",
    "version": 3
   },
   "file_extension": ".py",
   "mimetype": "text/x-python",
   "name": "python",
   "nbconvert_exporter": "python",
   "pygments_lexer": "ipython3",
   "version": "3.7.9"
  }
 },
 "nbformat": 4,
 "nbformat_minor": 4
}
